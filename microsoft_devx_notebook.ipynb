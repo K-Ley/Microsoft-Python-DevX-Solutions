{
 "cells": [
  {
   "cell_type": "code",
   "execution_count": 285,
   "metadata": {},
   "outputs": [
    {
     "name": "stdout",
     "output_type": "stream",
     "text": [
      "act\n"
     ]
    }
   ],
   "source": [
    "long_name = 'characteristics'\n",
    "print(long_name[4:7])"
   ]
  },
  {
   "cell_type": "code",
   "execution_count": 286,
   "metadata": {},
   "outputs": [
    {
     "name": "stdout",
     "output_type": "stream",
     "text": [
      "slice long_name[4:7] act\n"
     ]
    }
   ],
   "source": [
    "print(\"slice long_name[4:7]\", long_name[4:7])"
   ]
  },
  {
   "cell_type": "code",
   "execution_count": 287,
   "metadata": {},
   "outputs": [
    {
     "name": "stdout",
     "output_type": "stream",
     "text": [
      "slice long_name[4:7] act\n"
     ]
    }
   ],
   "source": [
    "long_name = 'characteristics'\n",
    "print(\"slice long_name[4:7]\", long_name[4:7])"
   ]
  },
  {
   "cell_type": "code",
   "execution_count": 290,
   "metadata": {},
   "outputs": [
    {
     "name": "stdout",
     "output_type": "stream",
     "text": [
      "haracteristic\n"
     ]
    }
   ],
   "source": [
    "long_name = 'characteristics'\n",
    "print(long_name[1:14])"
   ]
  },
  {
   "cell_type": "code",
   "execution_count": 7,
   "metadata": {},
   "outputs": [
    {
     "name": "stdout",
     "output_type": "stream",
     "text": [
      "long_name[11:14]\n"
     ]
    }
   ],
   "source": [
    "long_name = 'characteristics'\n",
    "print(\"long_name[11:14]\")"
   ]
  },
  {
   "cell_type": "code",
   "execution_count": 8,
   "metadata": {},
   "outputs": [
    {
     "name": "stdout",
     "output_type": "stream",
     "text": [
      "slice long_name[11:14]\n"
     ]
    }
   ],
   "source": [
    "long_name = 'characteristics'\n",
    "print(\"slice long_name[11:14]\")"
   ]
  },
  {
   "cell_type": "code",
   "execution_count": 9,
   "metadata": {},
   "outputs": [
    {
     "name": "stdout",
     "output_type": "stream",
     "text": [
      "slice long_name[11:14] tic\n"
     ]
    }
   ],
   "source": [
    "long_name = 'characteristics'\n",
    "print(\"slice long_name[11:14]\", long_name[11:14])"
   ]
  },
  {
   "cell_type": "code",
   "execution_count": 10,
   "metadata": {},
   "outputs": [
    {
     "name": "stdout",
     "output_type": "stream",
     "text": [
      "tic\n"
     ]
    }
   ],
   "source": [
    "long_name = 'characteristics'\n",
    "print(long_name[11:14])"
   ]
  },
  {
   "cell_type": "code",
   "execution_count": 254,
   "metadata": {},
   "outputs": [
    {
     "name": "stdout",
     "output_type": "stream",
     "text": [
      "characteristics \n",
      "\n",
      "Andrew\n"
     ]
    }
   ],
   "source": [
    "print(long_name, \"\\n\")\n",
    "\n",
    "print(\"Andrew\")\n"
   ]
  },
  {
   "cell_type": "code",
   "execution_count": 13,
   "metadata": {},
   "outputs": [
    {
     "name": "stdout",
     "output_type": "stream",
     "text": [
      "Aneen\n"
     ]
    }
   ],
   "source": [
    "long_word = 'Acknoledgement'\n",
    "\n",
    "print(long_word[::3])"
   ]
  },
  {
   "cell_type": "code",
   "execution_count": 14,
   "metadata": {},
   "outputs": [
    {
     "name": "stdout",
     "output_type": "stream",
     "text": [
      "koegmn\n"
     ]
    }
   ],
   "source": [
    "long_word = 'Acknoledgement'\n",
    "\n",
    "print(long_word[2::2])"
   ]
  },
  {
   "cell_type": "code",
   "execution_count": 15,
   "metadata": {},
   "outputs": [
    {
     "name": "stdout",
     "output_type": "stream",
     "text": [
      "desserts\n"
     ]
    }
   ],
   "source": [
    "long_word = 'stressed'\n",
    "\n",
    "print(long_word[::-1])"
   ]
  },
  {
   "cell_type": "code",
   "execution_count": 16,
   "metadata": {},
   "outputs": [
    {
     "name": "stdout",
     "output_type": "stream",
     "text": [
      "scitsiret\n"
     ]
    }
   ],
   "source": [
    "long_word ='characteristics'\n",
    "print(long_word[:5:-1])"
   ]
  },
  {
   "cell_type": "code",
   "execution_count": 17,
   "metadata": {},
   "outputs": [
    {
     "name": "stdout",
     "output_type": "stream",
     "text": [
      "\n"
     ]
    }
   ],
   "source": [
    "long_word ='characteristics'\n",
    "print(long_word[0:5:-1])"
   ]
  },
  {
   "cell_type": "code",
   "execution_count": 18,
   "metadata": {},
   "outputs": [
    {
     "name": "stdout",
     "output_type": "stream",
     "text": [
      "carahc\n"
     ]
    }
   ],
   "source": [
    "long_word ='characteristics'\n",
    "print(long_word[5::-1])"
   ]
  },
  {
   "cell_type": "code",
   "execution_count": 19,
   "metadata": {},
   "outputs": [
    {
     "name": "stdout",
     "output_type": "stream",
     "text": [
      "char\n"
     ]
    }
   ],
   "source": [
    "print(long_word[:4])"
   ]
  },
  {
   "cell_type": "code",
   "execution_count": 22,
   "metadata": {},
   "outputs": [
    {
     "name": "stdout",
     "output_type": "stream",
     "text": [
      "rahc\n"
     ]
    }
   ],
   "source": [
    "print(long_word[3::-1])"
   ]
  },
  {
   "cell_type": "code",
   "execution_count": 24,
   "metadata": {},
   "outputs": [
    {
     "name": "stdout",
     "output_type": "stream",
     "text": [
      "scit\n"
     ]
    }
   ],
   "source": [
    "print(long_word[:10:-1])"
   ]
  },
  {
   "cell_type": "code",
   "execution_count": 25,
   "metadata": {},
   "outputs": [
    {
     "name": "stdout",
     "output_type": "stream",
     "text": [
      "\n"
     ]
    }
   ],
   "source": [
    "long_word = 'timeline'\n",
    "print(long_word[3:7:-1])"
   ]
  },
  {
   "cell_type": "code",
   "execution_count": 26,
   "metadata": {},
   "outputs": [
    {
     "name": "stdout",
     "output_type": "stream",
     "text": [
      "nile\n"
     ]
    }
   ],
   "source": [
    "long_word = 'timeline'\n",
    "print(long_word[6:2:-1])"
   ]
  },
  {
   "cell_type": "code",
   "execution_count": 27,
   "metadata": {},
   "outputs": [
    {
     "name": "stdout",
     "output_type": "stream",
     "text": [
      "A\n",
      "n\n",
      "d\n",
      "r\n",
      "e\n",
      "w\n"
     ]
    }
   ],
   "source": [
    "bf_name = 'Andrew'\n",
    "\n",
    "for n in bf_name:\n",
    "    print(n)\n",
    "    "
   ]
  },
  {
   "cell_type": "code",
   "execution_count": 29,
   "metadata": {},
   "outputs": [
    {
     "name": "stdout",
     "output_type": "stream",
     "text": [
      "Andrew to AnDrew\n"
     ]
    }
   ],
   "source": [
    "new_name =\"\"\n",
    "for n in bf_name:\n",
    "    if n.lower() == \"d\":\n",
    "        new_name += n.upper()\n",
    "    else:\n",
    "        new_name += n\n",
    "print(bf_name,\"to\",new_name)"
   ]
  },
  {
   "cell_type": "code",
   "execution_count": 30,
   "metadata": {},
   "outputs": [
    {
     "name": "stdout",
     "output_type": "stream",
     "text": [
      "Andrew to Andrew\n"
     ]
    }
   ],
   "source": [
    "new_name =\"\"\n",
    "for n in bf_name:\n",
    "    if n.upper() == \"a\":\n",
    "        new_name += n.lower()\n",
    "    else:\n",
    "        new_name += n\n",
    "print(bf_name,\"to\",new_name)"
   ]
  },
  {
   "cell_type": "code",
   "execution_count": 37,
   "metadata": {},
   "outputs": [
    {
     "name": "stdout",
     "output_type": "stream",
     "text": [
      "jxaoiin\n"
     ]
    }
   ],
   "source": [
    "long_word = 'juxtaposition'\n",
    "other_word = long_word[::2]\n",
    "print(other_word)\n"
   ]
  },
  {
   "cell_type": "code",
   "execution_count": 39,
   "metadata": {},
   "outputs": [
    {
     "name": "stdout",
     "output_type": "stream",
     "text": [
      "purpleelprup\n"
     ]
    }
   ],
   "source": [
    "fav = 'purple'\n",
    "print(fav[:]+fav[::-1])"
   ]
  },
  {
   "cell_type": "code",
   "execution_count": 255,
   "metadata": {},
   "outputs": [
    {
     "name": "stdout",
     "output_type": "stream",
     "text": [
      "24\n"
     ]
    }
   ],
   "source": [
    "random_tip = \"wear a hat when it rains\"\n",
    "print(len(random_tip))"
   ]
  },
  {
   "cell_type": "code",
   "execution_count": 52,
   "metadata": {},
   "outputs": [
    {
     "name": "stdout",
     "output_type": "stream",
     "text": [
      "wear a hat w\n",
      "hen it rains\n",
      "12\n"
     ]
    }
   ],
   "source": [
    "random_tip = \"wear a hat when it rains\"\n",
    "mid_pt = int(len(random_tip)/2)\n",
    "print(random_tip[:12])\n",
    "print(random_tip[12:])\n",
    "print(mid_pt)"
   ]
  },
  {
   "cell_type": "code",
   "execution_count": 59,
   "metadata": {},
   "outputs": [
    {
     "name": "stdout",
     "output_type": "stream",
     "text": [
      "taposition\n"
     ]
    }
   ],
   "source": [
    "long_word = \"juxtaposition\"\n",
    "first_t = long_word.find('t')\n",
    "print(long_word[first_t:])"
   ]
  },
  {
   "cell_type": "code",
   "execution_count": 74,
   "metadata": {},
   "outputs": [
    {
     "name": "stdout",
     "output_type": "stream",
     "text": [
      "taposition\n",
      "3\n",
      "ition\n"
     ]
    }
   ],
   "source": [
    "long_word = \"juxtaposition\"\n",
    "first_t = long_word.find('t')\n",
    "print(long_word[first_t:])\n",
    "\n",
    "print(long_word.find('t'))\n",
    "\n",
    "second_t=(long_word[first_t+1:].find(\"t\"))\n",
    "\n",
    "print(long_word[first_t:][second_t:])\n"
   ]
  },
  {
   "cell_type": "code",
   "execution_count": 406,
   "metadata": {},
   "outputs": [
    {
     "name": "stdout",
     "output_type": "stream",
     "text": [
      "3\n"
     ]
    }
   ],
   "source": [
    "long_word = \"juxtaposition\"\n",
    "location = long_word.find(\"t\")\n",
    "\n",
    "while location >= 0:\n",
    "    print(location)\n",
    "    break\n",
    "   # location += long_word.find(\"t\", location + 1)"
   ]
  },
  {
   "cell_type": "code",
   "execution_count": 345,
   "metadata": {},
   "outputs": [
    {
     "name": "stdout",
     "output_type": "stream",
     "text": [
      "(0, 'y')\n"
     ]
    }
   ],
   "source": [
    "quote = 'you only live once'\n",
    "space_index = quote.find(\" \")\n",
    "word = quote[:space_index]\n",
    "\n",
    "for word in enumerate (quote):\n",
    "    print (word)\n",
    "    break\n",
    " \n",
    "#revisit"
   ]
  },
  {
   "cell_type": "code",
   "execution_count": 447,
   "metadata": {},
   "outputs": [
    {
     "name": "stdout",
     "output_type": "stream",
     "text": [
      "you\n",
      "only\n",
      "live\n",
      "once\n"
     ]
    }
   ],
   "source": [
    "quote = 'you only live once'\n",
    "#revisit\n",
    "location = 0\n",
    "\n",
    "while location < len(quote):\n",
    "    index = quote.find(\" \") # Need to make the quote smaller on each iteration\n",
    "    if index != -1:\n",
    "        curr_word = quote[location:index]\n",
    "    else:\n",
    "        curr_word = quote\n",
    "    print(curr_word)\n",
    "    quote = quote[index +1:]\n",
    "    if index == -1:\n",
    "        break\n",
    "    #print(quote)\n",
    "    #location += index\n",
    "    \n",
    "\n",
    "    \n"
   ]
  },
  {
   "cell_type": "code",
   "execution_count": 401,
   "metadata": {},
   "outputs": [
    {
     "name": "stdout",
     "output_type": "stream",
     "text": [
      "Jupiter\n",
      "u\n",
      "J\n",
      "J r\n"
     ]
    }
   ],
   "source": [
    "#2-1 Task 1\n",
    "planet_name = 'Jupiter'\n",
    "print(planet_name)\n",
    "print(planet_name[1])\n",
    "print(planet_name[0])\n",
    "print(planet_name[0],planet_name[-1])\n",
    "\n",
    "\n"
   ]
  },
  {
   "cell_type": "code",
   "execution_count": 105,
   "metadata": {},
   "outputs": [
    {
     "name": "stdout",
     "output_type": "stream",
     "text": [
      "Nep tune\n",
      "Python\n",
      "enutpeN\n"
     ]
    }
   ],
   "source": [
    "#TASK 2\n",
    "\n",
    "planet_name = 'Neptune'\n",
    "print(planet_name[:3],planet_name[3:])\n",
    "\n",
    "\n",
    "wise_words ='Play it who open'\n",
    "print(wise_words[0::3])\n",
    "\n",
    "print(planet_name[::-1])\n",
    "\n"
   ]
  },
  {
   "cell_type": "code",
   "execution_count": 106,
   "metadata": {},
   "outputs": [
    {
     "name": "stdout",
     "output_type": "stream",
     "text": [
      "C\n",
      "h\n",
      "i\n",
      "n\n",
      "a\n",
      " \n",
      "8\n"
     ]
    }
   ],
   "source": [
    "#TASK 3\n",
    "\n",
    "fav_food = 'China 8'\n",
    "\n",
    "for n in fav_food:\n",
    "    print(n)"
   ]
  },
  {
   "cell_type": "code",
   "execution_count": 115,
   "metadata": {},
   "outputs": [
    {
     "name": "stdout",
     "output_type": "stream",
     "text": [
      "H\n",
      "i\n",
      "r\n",
      "o\n",
      "ioo\n"
     ]
    }
   ],
   "source": [
    "#TASK 4 \n",
    "# [ ] iterate work_tip string concatenate each letter to variable: new_string \n",
    "# [ ] concatenate the letter or a \"-\" instead of a space \" \"\n",
    "# tip: concatenate string example: word = word + \"a\"\n",
    "work_tip = \"Good code is commented code\"\n",
    "\n",
    "#task 5\n",
    "\n",
    "name = 'Hiroto'\n",
    "nname = name[0:4]\n",
    "for n in nname:\n",
    "    print(n)\n",
    "\n",
    "#t6\n",
    "\n",
    "print(name[1::2])\n"
   ]
  },
  {
   "cell_type": "code",
   "execution_count": 134,
   "metadata": {},
   "outputs": [
    {
     "name": "stdout",
     "output_type": "stream",
     "text": [
      "aiztirK\n",
      "a\n",
      "i\n",
      "z\n",
      "t\n",
      "i\n",
      "r\n",
      "K\n",
      "?iz?irK\n"
     ]
    }
   ],
   "source": [
    "#t7\n",
    "\n",
    "firstname='Kritzia'\n",
    "newname = \"\"\n",
    "\n",
    "backwards = firstname[::-1]\n",
    "print(firstname[::-1])\n",
    "\n",
    "for n in backwards:\n",
    "    print(n)\n",
    "    \n",
    "\n",
    "\n",
    "for n in backwards:\n",
    "    if n == \"e\" or n == \"t\" or n == \"a\":\n",
    "        newname += \"?\"\n",
    "    else:\n",
    "        newname += n\n",
    "print(newname)\n"
   ]
  },
  {
   "cell_type": "code",
   "execution_count": 138,
   "metadata": {},
   "outputs": [
    {
     "name": "stdout",
     "output_type": "stream",
     "text": [
      "10\n",
      "5\n",
      "0\n",
      "2\n"
     ]
    }
   ],
   "source": [
    "#t8\n",
    "work_tip = \"Good code is commented code\"\n",
    "print(work_tip[13:].find('code'))\n",
    "\n",
    "print(work_tip.count('o'))\n",
    "print(work_tip.count('w'))\n",
    "print(work_tip.count('code'))\n"
   ]
  },
  {
   "cell_type": "code",
   "execution_count": 142,
   "metadata": {},
   "outputs": [
    {
     "name": "stdout",
     "output_type": "stream",
     "text": [
      "code_tip: code a conditional decision like you would say it\n",
      "6\n",
      "11\n",
      "1\n"
     ]
    }
   ],
   "source": [
    "code_tip = \"code a conditional decision like you would say it\"\n",
    "print (\"code_tip:\" , code_tip)\n",
    "\n",
    "print(code_tip.count('i'))\n",
    "print(code_tip.find('i'))\n",
    "\n",
    "i1 = code_tip.find('i')\n",
    "i2 = code_tip[12:].find('i')\n",
    "\n",
    "print(i2)"
   ]
  },
  {
   "cell_type": "code",
   "execution_count": 326,
   "metadata": {},
   "outputs": [
    {
     "name": "stdout",
     "output_type": "stream",
     "text": [
      "39\n"
     ]
    }
   ],
   "source": [
    "num2add = [23, 3,5,6,2]\n",
    "print(sum(num2add))"
   ]
  },
  {
   "cell_type": "code",
   "execution_count": 166,
   "metadata": {},
   "outputs": [
    {
     "name": "stdout",
     "output_type": "stream",
     "text": [
      "There is no parking on condesa or bundy.\n"
     ]
    }
   ],
   "source": [
    "streetnames =[\"condesa\", \"cloverfield\",\"pico\",\"dinah shore\",\"bundy\"]\n",
    "noparkingstreets = (streetnames[0]) + ' or ' +(streetnames[4]+'.')\n",
    "print('There is no parking on ' + noparkingstreets)  \n",
    "\n",
    "\n",
    "\n"
   ]
  },
  {
   "cell_type": "code",
   "execution_count": 449,
   "metadata": {},
   "outputs": [
    {
     "name": "stdout",
     "output_type": "stream",
     "text": [
      "single_digits:  ['zero', 'one', 'two', 'three', 'four', 'five', 'six', 'seven', 'eight', 'nine']\n",
      "0\n",
      "1\n",
      "2\n",
      "3\n",
      "4\n",
      "5\n",
      "6\n",
      "7\n",
      "8\n",
      "9\n",
      "my key: 3\n"
     ]
    }
   ],
   "source": [
    "single_digits = [\"zero\", \"one\", \"two\", \"three\", \"four\", \"five\", \"six\", \"seven\", \"eight\", \"nine\"] \n",
    "print(\"single_digits: \", single_digits)\n",
    "#for x, y in enumerate  (single_digits):\n",
    "#    print(x)\n",
    "\n",
    "\n",
    "for x,y in enumerate (single_digits):\n",
    "    \n",
    "    print(x)\n",
    "\n",
    "print(\"my key:\", single_digits.index(\"three\"))\n",
    " \n",
    "\n"
   ]
  },
  {
   "cell_type": "code",
   "execution_count": 451,
   "metadata": {},
   "outputs": [
    {
     "name": "stdout",
     "output_type": "stream",
     "text": [
      "[8, 2, 4]\n",
      "['large', 'small', 'small']\n"
     ]
    }
   ],
   "source": [
    "list_three_num = [8, 2, 4]\n",
    "print (list_three_num)\n",
    "\n",
    "def my_function(list_three_nums):\n",
    "    for index, value in enumerate(list_three_num):\n",
    "        if value <= 5:\n",
    "           list_three_num[index] = \"small\"\n",
    "        else: \n",
    "            list_three_num[index]=\"large\"\n",
    "\n",
    "my_function(list_three_num)\n",
    "print(list_three_num)\n",
    "    \n",
    "\n"
   ]
  },
  {
   "cell_type": "code",
   "execution_count": 485,
   "metadata": {},
   "outputs": [
    {
     "name": "stdout",
     "output_type": "stream",
     "text": [
      "['large', 'small', 'small']\n",
      "['My', 'Milkshake', 'Yard']\n",
      "['MY', 'Milkshake', 'Yard']\n",
      "['MY', 'Milkshake', 'yARD']\n"
     ]
    },
    {
     "data": {
      "text/plain": [
       "'\\nif n.lower() == \"d\":\\n        new_name += n.upper()\\n    else:\\n        new_name += n\\n'"
      ]
     },
     "execution_count": 485,
     "metadata": {},
     "output_type": "execute_result"
    }
   ],
   "source": [
    "''' \n",
    "Function Challenge: create replacement function\n",
    "Create a function, \n",
    "\n",
    "str_replace\n",
    "\n",
    "that takes 2 arguments: int_list and index\n",
    "int_list is a list of single digit integers\n",
    "index is the index that will be checked - such as with int_list[index]\n",
    "Function replicates purpose of task \"replace items in a list\" above and replaces an integer with a string \"small\" or \"large\"\n",
    "return int_list\n",
    "Test the function!\n",
    "# [ ]  create challenge function\n",
    "'''\n",
    "int_list = [5, 3, 4]\n",
    "index = 0\n",
    "def str_replace(int_list):\n",
    "    for index, value in enumerate (int_list):\n",
    "        if value <5:\n",
    "            int_list[index] = \"small\"\n",
    "            \n",
    "        else:\n",
    "            int_list[index] = \"large\"\n",
    "\n",
    "str_replace(int_list)\n",
    "print(int_list)\n",
    "            \n",
    "'''\n",
    "Task 2\n",
    "modify items in a list\n",
    "create a list, three_words, containing 3 different capitalized word stings\n",
    "print three_words\n",
    "modify the first item in three_words to uppercase\n",
    "modify the third item to swapcase\n",
    "print three_words\n",
    "# [ ] complete coding task described above\n",
    "'''\n",
    "\n",
    "three_words = ['My', 'Milkshake', 'Yard']\n",
    "print(three_words)\n",
    "\n",
    "three_words[0] = three_words[0].upper()\n",
    "print(three_words)\n",
    "\n",
    "\n",
    "three_words[2] = three_words[2].swapcase()\n",
    "    \n",
    "print(three_words)\n",
    "\n"
   ]
  },
  {
   "cell_type": "code",
   "execution_count": 389,
   "metadata": {},
   "outputs": [
    {
     "name": "stdout",
     "output_type": "stream",
     "text": [
      "['Joana', 'Jody', 'Alton', 'Tobias']\n"
     ]
    }
   ],
   "source": [
    "# [ ] insert a name from user input into the party_list in the second position (index 1)\n",
    "party_list = [\"Joana\", \"Alton\", \"Tobias\"]\n",
    "\n",
    "# [ ] print the updated list\n",
    "party_list.insert(1, \"Jody\")\n",
    "print (party_list)"
   ]
  },
  {
   "cell_type": "code",
   "execution_count": 391,
   "metadata": {},
   "outputs": [
    {
     "name": "stdout",
     "output_type": "stream",
     "text": [
      "tree_list before = ['oak']\n",
      "tree_list after  = ['oak', 'pine']\n"
     ]
    }
   ],
   "source": [
    "# [ ] Fix the Error\n",
    "tree_list = [\"oak\"]\n",
    "print(\"tree_list before =\", tree_list)\n",
    "tree_list.insert(1,\"pine\")\n",
    "print(\"tree_list after  =\", tree_list)"
   ]
  },
  {
   "cell_type": "code",
   "execution_count": 398,
   "metadata": {},
   "outputs": [
    {
     "name": "stdout",
     "output_type": "stream",
     "text": [
      "['calcaneus', 'talus', 'lateral cuneiform', 'intermediate cuneiform', 'medial cuneiform']\n",
      "['talus', 'cuboid', 'navicular', 'lateral cuneiform', 'intermediate cuneiform']\n"
     ]
    }
   ],
   "source": [
    "# [ ] print ft_bones list\n",
    "# [ ] delete \"cuboid\" from ft_bones\n",
    "# [ ] reprint list\n",
    "ft_bones = [\"calcaneus\", \"talus\", \"cuboid\", \"navicular\", \"lateral cuneiform\", \n",
    "            \"intermediate cuneiform\", \"medial cuneiform\"]\n",
    "del ft_bones[2]\n",
    "del ft_bones[2]\n",
    "print (ft_bones)\n",
    "\n",
    "# [ ] print ft_bones list\n",
    "# [ ] delete \"cuboid\" from ft_bones\n",
    "# [ ] delete \"navicular\" from list\n",
    "# [ ] reprint list\n",
    "# [ ] check for deletion of \"cuboid\" and \"navicular\"\n",
    "# [ ] pop() and print the first and last items from the ft_bones list\n",
    "ft_bones = [\"calcaneus\", \"talus\", \"cuboid\", \"navicular\", \"lateral cuneiform\", \n",
    "            \"intermediate cuneiform\", \"medial cuneiform\"]\n",
    "ft_bones.pop(0)\n",
    "ft_bones.pop()\n",
    "print (ft_bones)\n",
    "# [ ] print the remaining list"
   ]
  },
  {
   "cell_type": "code",
   "execution_count": 735,
   "metadata": {},
   "outputs": [
    {
     "ename": "KeyboardInterrupt",
     "evalue": "",
     "output_type": "error",
     "traceback": [
      "\u001b[0;31m---------------------------------------------------------------------------\u001b[0m",
      "\u001b[0;31mKeyboardInterrupt\u001b[0m                         Traceback (most recent call last)",
      "\u001b[0;32m/Library/Frameworks/Python.framework/Versions/3.8/lib/python3.8/site-packages/ipykernel/kernelbase.py\u001b[0m in \u001b[0;36m_input_request\u001b[0;34m(self, prompt, ident, parent, password)\u001b[0m\n\u001b[1;32m    883\u001b[0m             \u001b[0;32mtry\u001b[0m\u001b[0;34m:\u001b[0m\u001b[0;34m\u001b[0m\u001b[0;34m\u001b[0m\u001b[0m\n\u001b[0;32m--> 884\u001b[0;31m                 \u001b[0mident\u001b[0m\u001b[0;34m,\u001b[0m \u001b[0mreply\u001b[0m \u001b[0;34m=\u001b[0m \u001b[0mself\u001b[0m\u001b[0;34m.\u001b[0m\u001b[0msession\u001b[0m\u001b[0;34m.\u001b[0m\u001b[0mrecv\u001b[0m\u001b[0;34m(\u001b[0m\u001b[0mself\u001b[0m\u001b[0;34m.\u001b[0m\u001b[0mstdin_socket\u001b[0m\u001b[0;34m,\u001b[0m \u001b[0;36m0\u001b[0m\u001b[0;34m)\u001b[0m\u001b[0;34m\u001b[0m\u001b[0;34m\u001b[0m\u001b[0m\n\u001b[0m\u001b[1;32m    885\u001b[0m             \u001b[0;32mexcept\u001b[0m \u001b[0mException\u001b[0m\u001b[0;34m:\u001b[0m\u001b[0;34m\u001b[0m\u001b[0;34m\u001b[0m\u001b[0m\n",
      "\u001b[0;32m/Library/Frameworks/Python.framework/Versions/3.8/lib/python3.8/site-packages/jupyter_client/session.py\u001b[0m in \u001b[0;36mrecv\u001b[0;34m(self, socket, mode, content, copy)\u001b[0m\n\u001b[1;32m    802\u001b[0m         \u001b[0;32mtry\u001b[0m\u001b[0;34m:\u001b[0m\u001b[0;34m\u001b[0m\u001b[0;34m\u001b[0m\u001b[0m\n\u001b[0;32m--> 803\u001b[0;31m             \u001b[0mmsg_list\u001b[0m \u001b[0;34m=\u001b[0m \u001b[0msocket\u001b[0m\u001b[0;34m.\u001b[0m\u001b[0mrecv_multipart\u001b[0m\u001b[0;34m(\u001b[0m\u001b[0mmode\u001b[0m\u001b[0;34m,\u001b[0m \u001b[0mcopy\u001b[0m\u001b[0;34m=\u001b[0m\u001b[0mcopy\u001b[0m\u001b[0;34m)\u001b[0m\u001b[0;34m\u001b[0m\u001b[0;34m\u001b[0m\u001b[0m\n\u001b[0m\u001b[1;32m    804\u001b[0m         \u001b[0;32mexcept\u001b[0m \u001b[0mzmq\u001b[0m\u001b[0;34m.\u001b[0m\u001b[0mZMQError\u001b[0m \u001b[0;32mas\u001b[0m \u001b[0me\u001b[0m\u001b[0;34m:\u001b[0m\u001b[0;34m\u001b[0m\u001b[0;34m\u001b[0m\u001b[0m\n",
      "\u001b[0;32m/Library/Frameworks/Python.framework/Versions/3.8/lib/python3.8/site-packages/zmq/sugar/socket.py\u001b[0m in \u001b[0;36mrecv_multipart\u001b[0;34m(self, flags, copy, track)\u001b[0m\n\u001b[1;32m    474\u001b[0m         \"\"\"\n\u001b[0;32m--> 475\u001b[0;31m         \u001b[0mparts\u001b[0m \u001b[0;34m=\u001b[0m \u001b[0;34m[\u001b[0m\u001b[0mself\u001b[0m\u001b[0;34m.\u001b[0m\u001b[0mrecv\u001b[0m\u001b[0;34m(\u001b[0m\u001b[0mflags\u001b[0m\u001b[0;34m,\u001b[0m \u001b[0mcopy\u001b[0m\u001b[0;34m=\u001b[0m\u001b[0mcopy\u001b[0m\u001b[0;34m,\u001b[0m \u001b[0mtrack\u001b[0m\u001b[0;34m=\u001b[0m\u001b[0mtrack\u001b[0m\u001b[0;34m)\u001b[0m\u001b[0;34m]\u001b[0m\u001b[0;34m\u001b[0m\u001b[0;34m\u001b[0m\u001b[0m\n\u001b[0m\u001b[1;32m    476\u001b[0m         \u001b[0;31m# have first part already, only loop while more to receive\u001b[0m\u001b[0;34m\u001b[0m\u001b[0;34m\u001b[0m\u001b[0;34m\u001b[0m\u001b[0m\n",
      "\u001b[0;32mzmq/backend/cython/socket.pyx\u001b[0m in \u001b[0;36mzmq.backend.cython.socket.Socket.recv\u001b[0;34m()\u001b[0m\n",
      "\u001b[0;32mzmq/backend/cython/socket.pyx\u001b[0m in \u001b[0;36mzmq.backend.cython.socket.Socket.recv\u001b[0;34m()\u001b[0m\n",
      "\u001b[0;32mzmq/backend/cython/socket.pyx\u001b[0m in \u001b[0;36mzmq.backend.cython.socket._recv_copy\u001b[0;34m()\u001b[0m\n",
      "\u001b[0;32m/Library/Frameworks/Python.framework/Versions/3.8/lib/python3.8/site-packages/zmq/backend/cython/checkrc.pxd\u001b[0m in \u001b[0;36mzmq.backend.cython.checkrc._check_rc\u001b[0;34m()\u001b[0m\n",
      "\u001b[0;31mKeyboardInterrupt\u001b[0m: ",
      "\nDuring handling of the above exception, another exception occurred:\n",
      "\u001b[0;31mKeyboardInterrupt\u001b[0m                         Traceback (most recent call last)",
      "\u001b[0;32m<ipython-input-735-41642fd90fc9>\u001b[0m in \u001b[0;36m<module>\u001b[0;34m\u001b[0m\n\u001b[1;32m     14\u001b[0m \u001b[0;34m\u001b[0m\u001b[0m\n\u001b[1;32m     15\u001b[0m \u001b[0;32mwhile\u001b[0m \u001b[0;32mTrue\u001b[0m\u001b[0;34m:\u001b[0m\u001b[0;34m\u001b[0m\u001b[0;34m\u001b[0m\u001b[0m\n\u001b[0;32m---> 16\u001b[0;31m     \u001b[0mprices\u001b[0m \u001b[0;34m=\u001b[0m \u001b[0minput\u001b[0m\u001b[0;34m(\u001b[0m\u001b[0;34m\"Price of items: \"\u001b[0m\u001b[0;34m)\u001b[0m\u001b[0;34m\u001b[0m\u001b[0;34m\u001b[0m\u001b[0m\n\u001b[0m\u001b[1;32m     17\u001b[0m     \u001b[0;32mif\u001b[0m \u001b[0mprices\u001b[0m \u001b[0;34m!=\u001b[0m \u001b[0;34m\"done\"\u001b[0m\u001b[0;34m:\u001b[0m\u001b[0;34m\u001b[0m\u001b[0;34m\u001b[0m\u001b[0m\n\u001b[1;32m     18\u001b[0m         \u001b[0mpurchase_amounts\u001b[0m\u001b[0;34m.\u001b[0m\u001b[0minsert\u001b[0m\u001b[0;34m(\u001b[0m\u001b[0mx\u001b[0m\u001b[0;34m,\u001b[0m \u001b[0mprices\u001b[0m\u001b[0;34m)\u001b[0m\u001b[0;34m\u001b[0m\u001b[0;34m\u001b[0m\u001b[0m\n",
      "\u001b[0;32m/Library/Frameworks/Python.framework/Versions/3.8/lib/python3.8/site-packages/ipykernel/kernelbase.py\u001b[0m in \u001b[0;36mraw_input\u001b[0;34m(self, prompt)\u001b[0m\n\u001b[1;32m    854\u001b[0m                 \u001b[0;34m\"raw_input was called, but this frontend does not support input requests.\"\u001b[0m\u001b[0;34m\u001b[0m\u001b[0;34m\u001b[0m\u001b[0m\n\u001b[1;32m    855\u001b[0m             )\n\u001b[0;32m--> 856\u001b[0;31m         return self._input_request(str(prompt),\n\u001b[0m\u001b[1;32m    857\u001b[0m             \u001b[0mself\u001b[0m\u001b[0;34m.\u001b[0m\u001b[0m_parent_ident\u001b[0m\u001b[0;34m,\u001b[0m\u001b[0;34m\u001b[0m\u001b[0;34m\u001b[0m\u001b[0m\n\u001b[1;32m    858\u001b[0m             \u001b[0mself\u001b[0m\u001b[0;34m.\u001b[0m\u001b[0m_parent_header\u001b[0m\u001b[0;34m,\u001b[0m\u001b[0;34m\u001b[0m\u001b[0;34m\u001b[0m\u001b[0m\n",
      "\u001b[0;32m/Library/Frameworks/Python.framework/Versions/3.8/lib/python3.8/site-packages/ipykernel/kernelbase.py\u001b[0m in \u001b[0;36m_input_request\u001b[0;34m(self, prompt, ident, parent, password)\u001b[0m\n\u001b[1;32m    887\u001b[0m             \u001b[0;32mexcept\u001b[0m \u001b[0mKeyboardInterrupt\u001b[0m\u001b[0;34m:\u001b[0m\u001b[0;34m\u001b[0m\u001b[0;34m\u001b[0m\u001b[0m\n\u001b[1;32m    888\u001b[0m                 \u001b[0;31m# re-raise KeyboardInterrupt, to truncate traceback\u001b[0m\u001b[0;34m\u001b[0m\u001b[0;34m\u001b[0m\u001b[0;34m\u001b[0m\u001b[0m\n\u001b[0;32m--> 889\u001b[0;31m                 \u001b[0;32mraise\u001b[0m \u001b[0mKeyboardInterrupt\u001b[0m\u001b[0;34m\u001b[0m\u001b[0;34m\u001b[0m\u001b[0m\n\u001b[0m\u001b[1;32m    890\u001b[0m             \u001b[0;32melse\u001b[0m\u001b[0;34m:\u001b[0m\u001b[0;34m\u001b[0m\u001b[0;34m\u001b[0m\u001b[0m\n\u001b[1;32m    891\u001b[0m                 \u001b[0;32mbreak\u001b[0m\u001b[0;34m\u001b[0m\u001b[0;34m\u001b[0m\u001b[0m\n",
      "\u001b[0;31mKeyboardInterrupt\u001b[0m: "
     ]
    }
   ],
   "source": [
    "''' \n",
    "Cash Register Input\n",
    "create a empty list purchase_amounts\n",
    "populate the list with user input for the price of items\n",
    "continue adding to list with while until \"done\" is entered\n",
    "can use while True: with break\n",
    "print purchase_amounts\n",
    "continue to pt 2\n",
    "#[ ] complete the Register Input task above\n",
    "'''\n",
    "\n",
    "purchase_amounts = []\n",
    "x = 0\n",
    "\n",
    "while True:\n",
    "    prices = input(\"Price of items: \")\n",
    "    if prices != \"done\":\n",
    "        purchase_amounts.insert(x, prices)\n",
    "        x = x + 1\n",
    "    else:\n",
    "        break\n",
    "\n",
    "print(purchase_amounts)\n",
    "            "
   ]
  },
  {
   "cell_type": "markdown",
   "metadata": {},
   "source": [
    "'''\n",
    "Cash Register Total\n",
    "create a subtotal variable = 0\n",
    "create a while loop that runs while purchase_amount (is not empty)\n",
    "\n",
    "inside the loop\n",
    "\n",
    "pop() the last list value cast as a float type\n",
    "add the float value to a subtotal variable\n",
    "after exiting the loop print subtotal\n",
    "\n",
    "be sure to populate purchase_amounts by running pt 1 above\n",
    "complete the Register Total task above\n",
    "'''\n",
    "\n"
   ]
  },
  {
   "cell_type": "code",
   "execution_count": 619,
   "metadata": {},
   "outputs": [
    {
     "name": "stdout",
     "output_type": "stream",
     "text": [
      "Price of items: 35\n",
      "Price of items: 543\n",
      "Price of items: 8975\n",
      "Price of items: done\n",
      "['35', '543', '8975']\n",
      "Your total is: \n",
      "9553.0\n"
     ]
    }
   ],
   "source": [
    "purchase_amounts = []\n",
    "x = 0\n",
    "\n",
    "while True:\n",
    "    prices = input(\"Price of items: \")\n",
    "    if prices != \"done\":\n",
    "        purchase_amounts.insert(x, prices)\n",
    "        x = x + 1\n",
    "    else:\n",
    "        break\n",
    "\n",
    "print(purchase_amounts)\n",
    "        \n",
    "\n",
    "while purchase_amounts:\n",
    "    subtotal = 0\n",
    "    \n",
    "    subtotal = sum(map(float, purchase_amounts))\n",
    "    print(\"Your total is: \") \n",
    "    print(subtotal)\n",
    "    break "
   ]
  },
  {
   "cell_type": "code",
   "execution_count": 622,
   "metadata": {},
   "outputs": [
    {
     "name": "stdout",
     "output_type": "stream",
     "text": [
      "['Lab', 'Pug', 'Poodle', 'Poodle', 'Pug', 'Poodle']\n",
      "['Lab', 'Pug', 'Pug']\n",
      "No Poodle found\n"
     ]
    }
   ],
   "source": [
    "# [ ] remove one \"Poodle\" from the list: dogs , or print \"no Poodle found\"\n",
    "# [ ] print list before and after\n",
    "dogs = [\"Lab\", \"Pug\", \"Poodle\", \"Poodle\", \"Pug\", \"Poodle\"]\n",
    "print(dogs)\n",
    "while \"Poodle\" in dogs:\n",
    "    dogs.remove(\"Poodle\")\n",
    "\n",
    "\n",
    "    \n",
    "print(dogs)\n",
    "\n",
    "if dogs != \"Poodle\":\n",
    "    print(\"No Poodle found\")"
   ]
  },
  {
   "cell_type": "code",
   "execution_count": 657,
   "metadata": {},
   "outputs": [
    {
     "name": "stdout",
     "output_type": "stream",
     "text": [
      "['Monday', 'Tuesday', 'Wednesday', 'Thursday', 'Friday', 'Saturday', 'Sunday']\n",
      "['Tuesday', 'Thursday', 'Saturday']\n",
      "Tuesday\n",
      "Tuesday\n",
      "['Monday', 'Tuesday', 'Wednesday', 'Thursday', 'Friday', 'Tuesday', 'Sunday', 'Mayday']\n",
      "['Monday', 'Tuesday', 'Wednesday', 'Heyday', 'Thursday', 'Friday', 'Tuesday', 'Sunday', 'Mayday']\n",
      "['Monday', 'Tuesday', 'Wednesday', 'Heyday', 'Thursday', 'Friday', 'Weeknd', 'Tuesday', 'Sunday', 'Mayday']\n",
      "Mayday\n",
      "['Monday', 'Tuesday', 'Wednesday', 'Heyday', 'Thursday', 'Friday', 'Weeknd', 'Tuesday']\n",
      "['Monday', 'Tuesday', 'Wednesday', 'Thursday', 'Friday', 'Weeknd', 'Tuesday']\n",
      "['Monday', 'Tuesday', 'Wednesday', 'Friday', 'Weeknd', 'Tuesday']\n"
     ]
    }
   ],
   "source": [
    "# [ ] create and populate list called days_of_week then print it\n",
    "days_of_week = ['Monday', 'Tuesday', 'Wednesday', 'Thursday', 'Friday', 'Saturday', 'Sunday']\n",
    "print(days_of_week)\n",
    "print(days_of_week[1::2])\n",
    "\n",
    "# [ ] create a variable: day, assign day to \"Tuesday\" using days_of_week[]\n",
    "# [ ] print day variable\n",
    "day = days_of_week[1]\n",
    "print(day)\n",
    "\n",
    "\n",
    "\n",
    "# PART 2\n",
    "# [ ] assign day to days_of_week index = 5\n",
    "# [ ] print day\n",
    "\n",
    "days_of_week [5] = day\n",
    "print(day)\n",
    "# [ ] Make up a new day! - append an 8th day of the week to days_of_week \n",
    "# [ ] print days_of_week\n",
    "days_of_week.append('Mayday')\n",
    "print(days_of_week)\n",
    "\n",
    "# [ ] Make up another new day - insert a new day into the middle of days_of_week between Wed - Thurs\n",
    "# [ ] print days_of_week\n",
    "\n",
    "days_of_week.insert(3, 'Heyday')\n",
    "print(days_of_week)\n",
    "\n",
    "\n",
    "# [ ]  Extend the weekend - insert a day between Fri & Sat in the days_of_week list\n",
    "# [ ] print days_of_week\n",
    "\n",
    "days_of_week.insert(6, 'Weeknd')\n",
    "print(days_of_week)\n",
    "\n",
    "\n",
    "# [ ] print days_of_week \n",
    "# [ ] modified week is too long - pop() the last index of days_of_week & print .pop() value\n",
    "# [ ] print days_of_week\n",
    "print(days_of_week.pop(-1))\n",
    "days_of_week.pop(-1)\n",
    "\n",
    "\n",
    "\n",
    "# [ ] print days_of_week \n",
    "# [ ] delete (del) the new day added to the middle of the week \n",
    "# [ ] print days_of_week\n",
    "\n",
    "print(days_of_week)\n",
    "\n",
    "del days_of_week[3]\n",
    "\n",
    "print(days_of_week)\n",
    "\n",
    "# [ ] print days_of_week \n",
    "# [ ] programmers choice - pop() any day in days_of week & print .pop() value\n",
    "# [ ] print days_of_week\n",
    "\n",
    "\n",
    "days_of_week.pop(-4)\n",
    "\n",
    "print(days_of_week)"
   ]
  },
  {
   "cell_type": "code",
   "execution_count": 739,
   "metadata": {},
   "outputs": [
    {
     "name": "stdout",
     "output_type": "stream",
     "text": [
      "[' ', '', 'ABC', 'DEF', 'GHI', 'JKL', 'MNO', 'PQRS', 'TUV', 'WXYZ']\n",
      "Put in a letter: sdfa\n",
      "SDFA\n",
      "Not Found\n",
      "Put in a letter: f\n",
      "F\n",
      "3\n",
      "Put in a letter: d\n",
      "D\n",
      "3\n",
      "Put in a letter: s\n",
      "S\n",
      "7\n",
      "Put in a letter: a\n",
      "A\n",
      "2\n"
     ]
    },
    {
     "ename": "KeyboardInterrupt",
     "evalue": "",
     "output_type": "error",
     "traceback": [
      "\u001b[0;31m---------------------------------------------------------------------------\u001b[0m",
      "\u001b[0;31mKeyboardInterrupt\u001b[0m                         Traceback (most recent call last)",
      "\u001b[0;32m/Library/Frameworks/Python.framework/Versions/3.8/lib/python3.8/site-packages/ipykernel/kernelbase.py\u001b[0m in \u001b[0;36m_input_request\u001b[0;34m(self, prompt, ident, parent, password)\u001b[0m\n\u001b[1;32m    883\u001b[0m             \u001b[0;32mtry\u001b[0m\u001b[0;34m:\u001b[0m\u001b[0;34m\u001b[0m\u001b[0;34m\u001b[0m\u001b[0m\n\u001b[0;32m--> 884\u001b[0;31m                 \u001b[0mident\u001b[0m\u001b[0;34m,\u001b[0m \u001b[0mreply\u001b[0m \u001b[0;34m=\u001b[0m \u001b[0mself\u001b[0m\u001b[0;34m.\u001b[0m\u001b[0msession\u001b[0m\u001b[0;34m.\u001b[0m\u001b[0mrecv\u001b[0m\u001b[0;34m(\u001b[0m\u001b[0mself\u001b[0m\u001b[0;34m.\u001b[0m\u001b[0mstdin_socket\u001b[0m\u001b[0;34m,\u001b[0m \u001b[0;36m0\u001b[0m\u001b[0;34m)\u001b[0m\u001b[0;34m\u001b[0m\u001b[0;34m\u001b[0m\u001b[0m\n\u001b[0m\u001b[1;32m    885\u001b[0m             \u001b[0;32mexcept\u001b[0m \u001b[0mException\u001b[0m\u001b[0;34m:\u001b[0m\u001b[0;34m\u001b[0m\u001b[0;34m\u001b[0m\u001b[0m\n",
      "\u001b[0;32m/Library/Frameworks/Python.framework/Versions/3.8/lib/python3.8/site-packages/jupyter_client/session.py\u001b[0m in \u001b[0;36mrecv\u001b[0;34m(self, socket, mode, content, copy)\u001b[0m\n\u001b[1;32m    802\u001b[0m         \u001b[0;32mtry\u001b[0m\u001b[0;34m:\u001b[0m\u001b[0;34m\u001b[0m\u001b[0;34m\u001b[0m\u001b[0m\n\u001b[0;32m--> 803\u001b[0;31m             \u001b[0mmsg_list\u001b[0m \u001b[0;34m=\u001b[0m \u001b[0msocket\u001b[0m\u001b[0;34m.\u001b[0m\u001b[0mrecv_multipart\u001b[0m\u001b[0;34m(\u001b[0m\u001b[0mmode\u001b[0m\u001b[0;34m,\u001b[0m \u001b[0mcopy\u001b[0m\u001b[0;34m=\u001b[0m\u001b[0mcopy\u001b[0m\u001b[0;34m)\u001b[0m\u001b[0;34m\u001b[0m\u001b[0;34m\u001b[0m\u001b[0m\n\u001b[0m\u001b[1;32m    804\u001b[0m         \u001b[0;32mexcept\u001b[0m \u001b[0mzmq\u001b[0m\u001b[0;34m.\u001b[0m\u001b[0mZMQError\u001b[0m \u001b[0;32mas\u001b[0m \u001b[0me\u001b[0m\u001b[0;34m:\u001b[0m\u001b[0;34m\u001b[0m\u001b[0;34m\u001b[0m\u001b[0m\n",
      "\u001b[0;32m/Library/Frameworks/Python.framework/Versions/3.8/lib/python3.8/site-packages/zmq/sugar/socket.py\u001b[0m in \u001b[0;36mrecv_multipart\u001b[0;34m(self, flags, copy, track)\u001b[0m\n\u001b[1;32m    474\u001b[0m         \"\"\"\n\u001b[0;32m--> 475\u001b[0;31m         \u001b[0mparts\u001b[0m \u001b[0;34m=\u001b[0m \u001b[0;34m[\u001b[0m\u001b[0mself\u001b[0m\u001b[0;34m.\u001b[0m\u001b[0mrecv\u001b[0m\u001b[0;34m(\u001b[0m\u001b[0mflags\u001b[0m\u001b[0;34m,\u001b[0m \u001b[0mcopy\u001b[0m\u001b[0;34m=\u001b[0m\u001b[0mcopy\u001b[0m\u001b[0;34m,\u001b[0m \u001b[0mtrack\u001b[0m\u001b[0;34m=\u001b[0m\u001b[0mtrack\u001b[0m\u001b[0;34m)\u001b[0m\u001b[0;34m]\u001b[0m\u001b[0;34m\u001b[0m\u001b[0;34m\u001b[0m\u001b[0m\n\u001b[0m\u001b[1;32m    476\u001b[0m         \u001b[0;31m# have first part already, only loop while more to receive\u001b[0m\u001b[0;34m\u001b[0m\u001b[0;34m\u001b[0m\u001b[0;34m\u001b[0m\u001b[0m\n",
      "\u001b[0;32mzmq/backend/cython/socket.pyx\u001b[0m in \u001b[0;36mzmq.backend.cython.socket.Socket.recv\u001b[0;34m()\u001b[0m\n",
      "\u001b[0;32mzmq/backend/cython/socket.pyx\u001b[0m in \u001b[0;36mzmq.backend.cython.socket.Socket.recv\u001b[0;34m()\u001b[0m\n",
      "\u001b[0;32mzmq/backend/cython/socket.pyx\u001b[0m in \u001b[0;36mzmq.backend.cython.socket._recv_copy\u001b[0;34m()\u001b[0m\n",
      "\u001b[0;32m/Library/Frameworks/Python.framework/Versions/3.8/lib/python3.8/site-packages/zmq/backend/cython/checkrc.pxd\u001b[0m in \u001b[0;36mzmq.backend.cython.checkrc._check_rc\u001b[0;34m()\u001b[0m\n",
      "\u001b[0;31mKeyboardInterrupt\u001b[0m: ",
      "\nDuring handling of the above exception, another exception occurred:\n",
      "\u001b[0;31mKeyboardInterrupt\u001b[0m                         Traceback (most recent call last)",
      "\u001b[0;32m<ipython-input-739-b25cb55309d8>\u001b[0m in \u001b[0;36m<module>\u001b[0;34m\u001b[0m\n\u001b[1;32m     22\u001b[0m \u001b[0;34m\u001b[0m\u001b[0m\n\u001b[1;32m     23\u001b[0m \u001b[0;32mwhile\u001b[0m \u001b[0;32mTrue\u001b[0m\u001b[0;34m:\u001b[0m\u001b[0;34m\u001b[0m\u001b[0;34m\u001b[0m\u001b[0m\n\u001b[0;32m---> 24\u001b[0;31m     \u001b[0mprint\u001b[0m \u001b[0;34m(\u001b[0m\u001b[0mlet_to_num\u001b[0m\u001b[0;34m(\u001b[0m\u001b[0mphone_letters\u001b[0m\u001b[0;34m)\u001b[0m\u001b[0;34m)\u001b[0m\u001b[0;34m\u001b[0m\u001b[0;34m\u001b[0m\u001b[0m\n\u001b[0m",
      "\u001b[0;32m<ipython-input-739-b25cb55309d8>\u001b[0m in \u001b[0;36mlet_to_num\u001b[0;34m(phone_letters)\u001b[0m\n\u001b[1;32m      5\u001b[0m \u001b[0;32mdef\u001b[0m \u001b[0mlet_to_num\u001b[0m\u001b[0;34m(\u001b[0m\u001b[0mphone_letters\u001b[0m\u001b[0;34m)\u001b[0m\u001b[0;34m:\u001b[0m\u001b[0;34m\u001b[0m\u001b[0;34m\u001b[0m\u001b[0m\n\u001b[1;32m      6\u001b[0m     \u001b[0mkey\u001b[0m \u001b[0;34m=\u001b[0m \u001b[0;36m0\u001b[0m\u001b[0;34m\u001b[0m\u001b[0;34m\u001b[0m\u001b[0m\n\u001b[0;32m----> 7\u001b[0;31m     \u001b[0mletter\u001b[0m \u001b[0;34m=\u001b[0m \u001b[0minput\u001b[0m\u001b[0;34m(\u001b[0m\u001b[0;34m'Put in a letter: '\u001b[0m\u001b[0;34m)\u001b[0m\u001b[0;34m\u001b[0m\u001b[0;34m\u001b[0m\u001b[0m\n\u001b[0m\u001b[1;32m      8\u001b[0m     \u001b[0mletter\u001b[0m \u001b[0;34m=\u001b[0m \u001b[0mletter\u001b[0m\u001b[0;34m.\u001b[0m\u001b[0mupper\u001b[0m\u001b[0;34m(\u001b[0m\u001b[0;34m)\u001b[0m\u001b[0;34m\u001b[0m\u001b[0;34m\u001b[0m\u001b[0m\n\u001b[1;32m      9\u001b[0m     \u001b[0mmy_list\u001b[0m \u001b[0;34m=\u001b[0m \u001b[0mletter\u001b[0m\u001b[0;34m.\u001b[0m\u001b[0msplit\u001b[0m\u001b[0;34m(\u001b[0m\u001b[0;34m)\u001b[0m\u001b[0;34m\u001b[0m\u001b[0;34m\u001b[0m\u001b[0m\n",
      "\u001b[0;32m/Library/Frameworks/Python.framework/Versions/3.8/lib/python3.8/site-packages/ipykernel/kernelbase.py\u001b[0m in \u001b[0;36mraw_input\u001b[0;34m(self, prompt)\u001b[0m\n\u001b[1;32m    854\u001b[0m                 \u001b[0;34m\"raw_input was called, but this frontend does not support input requests.\"\u001b[0m\u001b[0;34m\u001b[0m\u001b[0;34m\u001b[0m\u001b[0m\n\u001b[1;32m    855\u001b[0m             )\n\u001b[0;32m--> 856\u001b[0;31m         return self._input_request(str(prompt),\n\u001b[0m\u001b[1;32m    857\u001b[0m             \u001b[0mself\u001b[0m\u001b[0;34m.\u001b[0m\u001b[0m_parent_ident\u001b[0m\u001b[0;34m,\u001b[0m\u001b[0;34m\u001b[0m\u001b[0;34m\u001b[0m\u001b[0m\n\u001b[1;32m    858\u001b[0m             \u001b[0mself\u001b[0m\u001b[0;34m.\u001b[0m\u001b[0m_parent_header\u001b[0m\u001b[0;34m,\u001b[0m\u001b[0;34m\u001b[0m\u001b[0;34m\u001b[0m\u001b[0m\n",
      "\u001b[0;32m/Library/Frameworks/Python.framework/Versions/3.8/lib/python3.8/site-packages/ipykernel/kernelbase.py\u001b[0m in \u001b[0;36m_input_request\u001b[0;34m(self, prompt, ident, parent, password)\u001b[0m\n\u001b[1;32m    887\u001b[0m             \u001b[0;32mexcept\u001b[0m \u001b[0mKeyboardInterrupt\u001b[0m\u001b[0;34m:\u001b[0m\u001b[0;34m\u001b[0m\u001b[0;34m\u001b[0m\u001b[0m\n\u001b[1;32m    888\u001b[0m                 \u001b[0;31m# re-raise KeyboardInterrupt, to truncate traceback\u001b[0m\u001b[0;34m\u001b[0m\u001b[0;34m\u001b[0m\u001b[0;34m\u001b[0m\u001b[0m\n\u001b[0;32m--> 889\u001b[0;31m                 \u001b[0;32mraise\u001b[0m \u001b[0mKeyboardInterrupt\u001b[0m\u001b[0;34m\u001b[0m\u001b[0;34m\u001b[0m\u001b[0m\n\u001b[0m\u001b[1;32m    890\u001b[0m             \u001b[0;32melse\u001b[0m\u001b[0;34m:\u001b[0m\u001b[0;34m\u001b[0m\u001b[0;34m\u001b[0m\u001b[0m\n\u001b[1;32m    891\u001b[0m                 \u001b[0;32mbreak\u001b[0m\u001b[0;34m\u001b[0m\u001b[0;34m\u001b[0m\u001b[0m\n",
      "\u001b[0;31mKeyboardInterrupt\u001b[0m: "
     ]
    }
   ],
   "source": [
    "phone_letters = [' ', '', 'ABC', 'DEF', 'GHI', 'JKL', 'MNO', 'PQRS', 'TUV', 'WXYZ']\n",
    "\n",
    "print(phone_letters)\n",
    "\n",
    "def let_to_num(phone_letters):\n",
    "    key = 0\n",
    "    letter = input('Put in a letter: ')\n",
    "    letter = letter.upper()\n",
    "    my_list = letter.split()\n",
    "    print(letter)\n",
    "    while key < 10:\n",
    "        if letter == \"\":\n",
    "            return 1\n",
    "        elif letter in phone_letters[key]:\n",
    "            return key\n",
    "        elif letter == \" \":\n",
    "            return phone_letters[0]\n",
    "        else:\n",
    "            key += 1\n",
    "        \n",
    "    return(\"Not Found\")        \n",
    "\n",
    "while True:\n",
    "    print (let_to_num(phone_letters))"
   ]
  },
  {
   "cell_type": "code",
   "execution_count": 738,
   "metadata": {},
   "outputs": [
    {
     "name": "stdout",
     "output_type": "stream",
     "text": [
      "Put in a letter:  asdfkas lkf\n",
      "127335271553\n"
     ]
    }
   ],
   "source": [
    "letters_dict = { ' ': 1,\n",
    "                'A': 2,\n",
    "                'B': 2,\n",
    "                'C': 2,\n",
    "                'D': 3,\n",
    "                'E': 3,\n",
    "                'F': 3,\n",
    "                'G': 4,\n",
    "                'H': 4,\n",
    "                'I': 4,\n",
    "                'J': 5,\n",
    "                'K': 5,\n",
    "                'L': 5,\n",
    "                'M': 6,\n",
    "                'N': 6,\n",
    "                'O': 6,\n",
    "                'P': 7,\n",
    "                'Q': 7,\n",
    "                'R': 7,\n",
    "                'S': 7,\n",
    "                'T': 8,\n",
    "                'U': 8,\n",
    "                'V': 8,\n",
    "                'W': 9,\n",
    "                'X': 9,\n",
    "                'Y': 9,\n",
    "                'Z': 9\n",
    "               }\n",
    "\n",
    "def let_to_num(phone_letters):\n",
    "    sentence = input('Put in a letter: ')\n",
    "    sentence = sentence.upper()\n",
    "    key_list = []\n",
    "    if sentence == \"\":\n",
    "        return 1\n",
    "    for i in range(len(sentence)):\n",
    "        #print(sentence[i], phone_letters[i])\n",
    "        my_num = letters_dict[sentence[i]]\n",
    "        key_list.append(str(my_num))\n",
    "            \n",
    "    #print(key_list)\n",
    "             \n",
    "        \n",
    "    return \"\".join(key_list)\n",
    "    return(\"Not Found\")        \n",
    "\n",
    "print(let_to_num(phone_letters))"
   ]
  },
  {
   "cell_type": "code",
   "execution_count": 729,
   "metadata": {},
   "outputs": [
    {
     "name": "stdout",
     "output_type": "stream",
     "text": [
      "hi, bye\n"
     ]
    }
   ],
   "source": [
    "print(\"hi, bye\")"
   ]
  },
  {
   "cell_type": "code",
   "execution_count": null,
   "metadata": {},
   "outputs": [],
   "source": []
  },
  {
   "cell_type": "code",
   "execution_count": null,
   "metadata": {},
   "outputs": [],
   "source": []
  },
  {
   "cell_type": "code",
   "execution_count": null,
   "metadata": {},
   "outputs": [],
   "source": []
  },
  {
   "cell_type": "code",
   "execution_count": 781,
   "metadata": {},
   "outputs": [
    {
     "name": "stdout",
     "output_type": "stream",
     "text": [
      "What cats? Enter Quit to exit. hello\n",
      "['siamese', 'lynx', 'savannah', 'bengal', 'russian whitehair', 'hello']\n",
      "What cats? Enter Quit to exit. cats\n",
      "['siamese', 'lynx', 'savannah', 'bengal', 'russian whitehair', 'hello', 'cats']\n",
      "What cats? Enter Quit to exit. \n",
      "['siamese', 'lynx', 'savannah', 'bengal', 'russian whitehair', 'hello']\n",
      "What cats? Enter Quit to exit. \n",
      "['siamese', 'lynx', 'savannah', 'bengal', 'russian whitehair']\n",
      "What cats? Enter Quit to exit. \n",
      "['siamese', 'lynx', 'savannah', 'bengal']\n",
      "What cats? Enter Quit to exit. lynx\n",
      "['siamese', 'savannah', 'bengal']\n",
      "What cats? Enter Quit to exit. siamese\n",
      "['savannah', 'bengal']\n",
      "What cats? Enter Quit to exit. bengal\n",
      "['savannah']\n",
      "What cats? Enter Quit to exit. savannah\n",
      "[]\n"
     ]
    },
    {
     "ename": "KeyboardInterrupt",
     "evalue": "",
     "output_type": "error",
     "traceback": [
      "\u001b[0;31m---------------------------------------------------------------------------\u001b[0m",
      "\u001b[0;31mKeyboardInterrupt\u001b[0m                         Traceback (most recent call last)",
      "\u001b[0;32m<ipython-input-781-76013337bb3a>\u001b[0m in \u001b[0;36m<module>\u001b[0;34m\u001b[0m\n\u001b[1;32m     17\u001b[0m \u001b[0;34m\u001b[0m\u001b[0m\n\u001b[1;32m     18\u001b[0m \u001b[0;32mwhile\u001b[0m \u001b[0;32mTrue\u001b[0m\u001b[0;34m:\u001b[0m\u001b[0;34m\u001b[0m\u001b[0;34m\u001b[0m\u001b[0m\n\u001b[0;32m---> 19\u001b[0;31m     \u001b[0;32mfor\u001b[0m \u001b[0mcat\u001b[0m \u001b[0;32min\u001b[0m \u001b[0mcat_list\u001b[0m\u001b[0;34m:\u001b[0m\u001b[0;34m\u001b[0m\u001b[0;34m\u001b[0m\u001b[0m\n\u001b[0m\u001b[1;32m     20\u001b[0m         \u001b[0mmy_words\u001b[0m \u001b[0;34m=\u001b[0m \u001b[0minput\u001b[0m\u001b[0;34m(\u001b[0m\u001b[0;34m'What cats? Enter Quit to exit. '\u001b[0m\u001b[0;34m)\u001b[0m\u001b[0;34m\u001b[0m\u001b[0;34m\u001b[0m\u001b[0m\n\u001b[1;32m     21\u001b[0m         \u001b[0;32mif\u001b[0m \u001b[0mcat_list\u001b[0m \u001b[0;34m==\u001b[0m \u001b[0;34m[\u001b[0m\u001b[0;34m]\u001b[0m\u001b[0;34m:\u001b[0m\u001b[0;34m\u001b[0m\u001b[0;34m\u001b[0m\u001b[0m\n",
      "\u001b[0;31mKeyboardInterrupt\u001b[0m: "
     ]
    }
   ],
   "source": [
    "cat_list = ['siamese', 'lynx', 'savannah', 'bengal', 'russian whitehair']\n",
    "\n",
    "end = \"Ok bye!\"\n",
    "\n",
    "def list_o_matic():\n",
    "    if len(my_words) == 0:\n",
    "        cat_list.pop()\n",
    "        if cat_list == []:\n",
    "            print(end)\n",
    "    else:\n",
    "        if my_words in cat_list:\n",
    "            cat_list.remove(my_words)\n",
    "        \n",
    "        else:\n",
    "            cat_list.append(my_words)\n",
    "            \n",
    "\n",
    "while True:\n",
    "    for cat in cat_list:\n",
    "        my_words = input('What cats? Enter Quit to exit. ')\n",
    "        if cat_list == []:\n",
    "            print(end)\n",
    "        elif my_words == \"quit\":\n",
    "            print(end)\n",
    "        else: \n",
    "            if len(cat_list) > 0:\n",
    "                list_o_matic()\n",
    "                print(cat_list)    "
   ]
  },
  {
   "cell_type": "code",
   "execution_count": 797,
   "metadata": {},
   "outputs": [
    {
     "name": "stdout",
     "output_type": "stream",
     "text": [
      "parrot\n",
      "hawk\n",
      "toucan\n",
      "pigeon\n",
      "hummingbird\n",
      "68\n",
      "46\n",
      "106\n",
      "58\n",
      "60\n",
      "100\n",
      "158\n",
      "parrot hawk toucan pigeon hummingbird \n"
     ]
    }
   ],
   "source": [
    "# [ ] create a list of 4 to 6 strings: birds\n",
    "# print each bird in the list\n",
    "\n",
    "birds = ['parrot', 'hawk', 'toucan', 'pigeon', 'hummingbird']\n",
    "\n",
    "for bird in birds:\n",
    "    print(bird)\n",
    "\n",
    "# [ ]  create a list of 7 integers: player_points\n",
    "# [ ] print double the points for each point value\n",
    "\n",
    "player_points =[34,23,53,29,30,50,79]\n",
    "double_points = 0\n",
    "\n",
    "for points in player_points:\n",
    "    points = points * 2\n",
    "    print(points)\n",
    "    \n",
    "\n",
    "# [ ] create long_string by concatenating the items in the \"birds\" list previously created\n",
    "# print long_string - make sure to put a space betweeen the bird names\n",
    "\n",
    "long_string = \"\"\n",
    "for bird in birds:\n",
    "    long_string += bird + \" \"\n",
    "    \n",
    "print(long_string)\n"
   ]
  },
  {
   "cell_type": "code",
   "execution_count": 801,
   "metadata": {},
   "outputs": [
    {
     "name": "stdout",
     "output_type": "stream",
     "text": [
      "['hawk', 'hummingbird']\n",
      "['Shanghai', 'Dubai', 'São Paulo', 'Hyderabad']\n",
      "['New York', 'Munich', 'Tokyo', 'Mexico City']\n"
     ]
    }
   ],
   "source": [
    "# [ ] Using cities from the example above iterate throught the list using \"for\"/\"in\"\n",
    "# [ ] Print only cities starting with \"m\"\n",
    "H_birds =[]\n",
    "for bird in birds:\n",
    "    if bird[0] == 'h':\n",
    "        H_birds.append(bird)\n",
    "        \n",
    "print(H_birds)\n",
    "\n",
    "# [ ] Using cities, from the example in previous page. iterate through the list using \"for\"/\"in\"\n",
    "\n",
    "# [ ] sort into lists with \"A\" in the city name and without \"A\" in the name: a_city & no_a_city\n",
    "\n",
    "\n",
    "cities = [\"New York\", \"Shanghai\", \"Munich\", \"Tokyo\", \"Dubai\", \"Mexico City\", \"São Paulo\", \"Hyderabad\"]\n",
    "a_city = []\n",
    "no_a_city =[]\n",
    "\n",
    "for city in cities:\n",
    "    if \"a\" in city:\n",
    "        a_city.append(city)\n",
    "        \n",
    "    else:\n",
    "        no_a_city.append(city)\n",
    "        \n",
    "print(a_city)\n",
    "print(no_a_city)"
   ]
  },
  {
   "cell_type": "code",
   "execution_count": 803,
   "metadata": {},
   "outputs": [
    {
     "name": "stdout",
     "output_type": "stream",
     "text": [
      "Which colors?: red\n",
      "We have that in stock!\n",
      "Which colors?: blue\n",
      "We have that in stock!\n",
      "Which colors?: vyan\n",
      "Sorry, we dont have that in stock\n",
      "Which colors?: cyan\n",
      "Sorry, we dont have that in stock\n"
     ]
    },
    {
     "ename": "KeyboardInterrupt",
     "evalue": "",
     "output_type": "error",
     "traceback": [
      "\u001b[0;31m---------------------------------------------------------------------------\u001b[0m",
      "\u001b[0;31mKeyboardInterrupt\u001b[0m                         Traceback (most recent call last)",
      "\u001b[0;32m/Library/Frameworks/Python.framework/Versions/3.8/lib/python3.8/site-packages/ipykernel/kernelbase.py\u001b[0m in \u001b[0;36m_input_request\u001b[0;34m(self, prompt, ident, parent, password)\u001b[0m\n\u001b[1;32m    883\u001b[0m             \u001b[0;32mtry\u001b[0m\u001b[0;34m:\u001b[0m\u001b[0;34m\u001b[0m\u001b[0;34m\u001b[0m\u001b[0m\n\u001b[0;32m--> 884\u001b[0;31m                 \u001b[0mident\u001b[0m\u001b[0;34m,\u001b[0m \u001b[0mreply\u001b[0m \u001b[0;34m=\u001b[0m \u001b[0mself\u001b[0m\u001b[0;34m.\u001b[0m\u001b[0msession\u001b[0m\u001b[0;34m.\u001b[0m\u001b[0mrecv\u001b[0m\u001b[0;34m(\u001b[0m\u001b[0mself\u001b[0m\u001b[0;34m.\u001b[0m\u001b[0mstdin_socket\u001b[0m\u001b[0;34m,\u001b[0m \u001b[0;36m0\u001b[0m\u001b[0;34m)\u001b[0m\u001b[0;34m\u001b[0m\u001b[0;34m\u001b[0m\u001b[0m\n\u001b[0m\u001b[1;32m    885\u001b[0m             \u001b[0;32mexcept\u001b[0m \u001b[0mException\u001b[0m\u001b[0;34m:\u001b[0m\u001b[0;34m\u001b[0m\u001b[0;34m\u001b[0m\u001b[0m\n",
      "\u001b[0;32m/Library/Frameworks/Python.framework/Versions/3.8/lib/python3.8/site-packages/jupyter_client/session.py\u001b[0m in \u001b[0;36mrecv\u001b[0;34m(self, socket, mode, content, copy)\u001b[0m\n\u001b[1;32m    802\u001b[0m         \u001b[0;32mtry\u001b[0m\u001b[0;34m:\u001b[0m\u001b[0;34m\u001b[0m\u001b[0;34m\u001b[0m\u001b[0m\n\u001b[0;32m--> 803\u001b[0;31m             \u001b[0mmsg_list\u001b[0m \u001b[0;34m=\u001b[0m \u001b[0msocket\u001b[0m\u001b[0;34m.\u001b[0m\u001b[0mrecv_multipart\u001b[0m\u001b[0;34m(\u001b[0m\u001b[0mmode\u001b[0m\u001b[0;34m,\u001b[0m \u001b[0mcopy\u001b[0m\u001b[0;34m=\u001b[0m\u001b[0mcopy\u001b[0m\u001b[0;34m)\u001b[0m\u001b[0;34m\u001b[0m\u001b[0;34m\u001b[0m\u001b[0m\n\u001b[0m\u001b[1;32m    804\u001b[0m         \u001b[0;32mexcept\u001b[0m \u001b[0mzmq\u001b[0m\u001b[0;34m.\u001b[0m\u001b[0mZMQError\u001b[0m \u001b[0;32mas\u001b[0m \u001b[0me\u001b[0m\u001b[0;34m:\u001b[0m\u001b[0;34m\u001b[0m\u001b[0;34m\u001b[0m\u001b[0m\n",
      "\u001b[0;32m/Library/Frameworks/Python.framework/Versions/3.8/lib/python3.8/site-packages/zmq/sugar/socket.py\u001b[0m in \u001b[0;36mrecv_multipart\u001b[0;34m(self, flags, copy, track)\u001b[0m\n\u001b[1;32m    474\u001b[0m         \"\"\"\n\u001b[0;32m--> 475\u001b[0;31m         \u001b[0mparts\u001b[0m \u001b[0;34m=\u001b[0m \u001b[0;34m[\u001b[0m\u001b[0mself\u001b[0m\u001b[0;34m.\u001b[0m\u001b[0mrecv\u001b[0m\u001b[0;34m(\u001b[0m\u001b[0mflags\u001b[0m\u001b[0;34m,\u001b[0m \u001b[0mcopy\u001b[0m\u001b[0;34m=\u001b[0m\u001b[0mcopy\u001b[0m\u001b[0;34m,\u001b[0m \u001b[0mtrack\u001b[0m\u001b[0;34m=\u001b[0m\u001b[0mtrack\u001b[0m\u001b[0;34m)\u001b[0m\u001b[0;34m]\u001b[0m\u001b[0;34m\u001b[0m\u001b[0;34m\u001b[0m\u001b[0m\n\u001b[0m\u001b[1;32m    476\u001b[0m         \u001b[0;31m# have first part already, only loop while more to receive\u001b[0m\u001b[0;34m\u001b[0m\u001b[0;34m\u001b[0m\u001b[0;34m\u001b[0m\u001b[0m\n",
      "\u001b[0;32mzmq/backend/cython/socket.pyx\u001b[0m in \u001b[0;36mzmq.backend.cython.socket.Socket.recv\u001b[0;34m()\u001b[0m\n",
      "\u001b[0;32mzmq/backend/cython/socket.pyx\u001b[0m in \u001b[0;36mzmq.backend.cython.socket.Socket.recv\u001b[0;34m()\u001b[0m\n",
      "\u001b[0;32mzmq/backend/cython/socket.pyx\u001b[0m in \u001b[0;36mzmq.backend.cython.socket._recv_copy\u001b[0;34m()\u001b[0m\n",
      "\u001b[0;32m/Library/Frameworks/Python.framework/Versions/3.8/lib/python3.8/site-packages/zmq/backend/cython/checkrc.pxd\u001b[0m in \u001b[0;36mzmq.backend.cython.checkrc._check_rc\u001b[0;34m()\u001b[0m\n",
      "\u001b[0;31mKeyboardInterrupt\u001b[0m: ",
      "\nDuring handling of the above exception, another exception occurred:\n",
      "\u001b[0;31mKeyboardInterrupt\u001b[0m                         Traceback (most recent call last)",
      "\u001b[0;32m<ipython-input-803-ca25ab3dbd0a>\u001b[0m in \u001b[0;36m<module>\u001b[0;34m\u001b[0m\n\u001b[1;32m      4\u001b[0m \u001b[0;34m\u001b[0m\u001b[0m\n\u001b[1;32m      5\u001b[0m \u001b[0;32mfor\u001b[0m \u001b[0mcolor\u001b[0m \u001b[0;32min\u001b[0m \u001b[0mpaint_colors\u001b[0m\u001b[0;34m:\u001b[0m\u001b[0;34m\u001b[0m\u001b[0;34m\u001b[0m\u001b[0m\n\u001b[0;32m----> 6\u001b[0;31m     \u001b[0mcolor_request\u001b[0m \u001b[0;34m=\u001b[0m \u001b[0minput\u001b[0m\u001b[0;34m(\u001b[0m\u001b[0;34m'Which colors?: '\u001b[0m\u001b[0;34m)\u001b[0m\u001b[0;34m\u001b[0m\u001b[0;34m\u001b[0m\u001b[0m\n\u001b[0m\u001b[1;32m      7\u001b[0m     \u001b[0;32mif\u001b[0m \u001b[0mcolor_request\u001b[0m \u001b[0;32min\u001b[0m \u001b[0mpaint_colors\u001b[0m\u001b[0;34m:\u001b[0m\u001b[0;34m\u001b[0m\u001b[0;34m\u001b[0m\u001b[0m\n\u001b[1;32m      8\u001b[0m         \u001b[0mprint\u001b[0m\u001b[0;34m(\u001b[0m\u001b[0;34m'We have that in stock!'\u001b[0m\u001b[0;34m)\u001b[0m\u001b[0;34m\u001b[0m\u001b[0;34m\u001b[0m\u001b[0m\n",
      "\u001b[0;32m/Library/Frameworks/Python.framework/Versions/3.8/lib/python3.8/site-packages/ipykernel/kernelbase.py\u001b[0m in \u001b[0;36mraw_input\u001b[0;34m(self, prompt)\u001b[0m\n\u001b[1;32m    854\u001b[0m                 \u001b[0;34m\"raw_input was called, but this frontend does not support input requests.\"\u001b[0m\u001b[0;34m\u001b[0m\u001b[0;34m\u001b[0m\u001b[0m\n\u001b[1;32m    855\u001b[0m             )\n\u001b[0;32m--> 856\u001b[0;31m         return self._input_request(str(prompt),\n\u001b[0m\u001b[1;32m    857\u001b[0m             \u001b[0mself\u001b[0m\u001b[0;34m.\u001b[0m\u001b[0m_parent_ident\u001b[0m\u001b[0;34m,\u001b[0m\u001b[0;34m\u001b[0m\u001b[0;34m\u001b[0m\u001b[0m\n\u001b[1;32m    858\u001b[0m             \u001b[0mself\u001b[0m\u001b[0;34m.\u001b[0m\u001b[0m_parent_header\u001b[0m\u001b[0;34m,\u001b[0m\u001b[0;34m\u001b[0m\u001b[0;34m\u001b[0m\u001b[0m\n",
      "\u001b[0;32m/Library/Frameworks/Python.framework/Versions/3.8/lib/python3.8/site-packages/ipykernel/kernelbase.py\u001b[0m in \u001b[0;36m_input_request\u001b[0;34m(self, prompt, ident, parent, password)\u001b[0m\n\u001b[1;32m    887\u001b[0m             \u001b[0;32mexcept\u001b[0m \u001b[0mKeyboardInterrupt\u001b[0m\u001b[0;34m:\u001b[0m\u001b[0;34m\u001b[0m\u001b[0;34m\u001b[0m\u001b[0m\n\u001b[1;32m    888\u001b[0m                 \u001b[0;31m# re-raise KeyboardInterrupt, to truncate traceback\u001b[0m\u001b[0;34m\u001b[0m\u001b[0;34m\u001b[0m\u001b[0;34m\u001b[0m\u001b[0m\n\u001b[0;32m--> 889\u001b[0;31m                 \u001b[0;32mraise\u001b[0m \u001b[0mKeyboardInterrupt\u001b[0m\u001b[0;34m\u001b[0m\u001b[0;34m\u001b[0m\u001b[0m\n\u001b[0m\u001b[1;32m    890\u001b[0m             \u001b[0;32melse\u001b[0m\u001b[0;34m:\u001b[0m\u001b[0;34m\u001b[0m\u001b[0;34m\u001b[0m\u001b[0m\n\u001b[1;32m    891\u001b[0m                 \u001b[0;32mbreak\u001b[0m\u001b[0;34m\u001b[0m\u001b[0;34m\u001b[0m\u001b[0m\n",
      "\u001b[0;31mKeyboardInterrupt\u001b[0m: "
     ]
    }
   ],
   "source": [
    "#check a list for a paint color request and print status of color \"found\"/\"not found\"\n",
    "\n",
    "paint_colors = [\"red\", \"pink\", \"purple\", \"blue\", \"green\", \"yellow\", \"gray\"]\n",
    "\n",
    "for color in paint_colors:\n",
    "    color_request = input('Which colors?: ')\n",
    "    if color_request in paint_colors:\n",
    "        print('We have that in stock!')\n",
    "        \n",
    "    else:\n",
    "        print('Sorry, we dont have that in stock')\n",
    "        \n",
    "\n",
    "#iterate through each color in paint_colors to check for a match with color_request\n",
    "# [ ] complete paint stock\n"
   ]
  },
  {
   "cell_type": "code",
   "execution_count": 828,
   "metadata": {},
   "outputs": [
    {
     "name": "stdout",
     "output_type": "stream",
     "text": [
      "Which bones?: cuboid\n",
      "Good Job!\n",
      "1\n",
      "Which bones?: talus\n",
      "Good Job!\n",
      "2\n"
     ]
    }
   ],
   "source": [
    "#Create a function that will iterate through foot_bones looking for a match of a string argument\n",
    "\n",
    "#Call the function 2 times with the name of a footbone\n",
    "#print immediate feedback for each answer (correct - incorrect)\n",
    "\n",
    "\n",
    "foot_bones = [\"calcaneus\", \"talus\", \"cuboid\", \"navicular\", \"lateral cuneiform\",\n",
    "             \"intermediate cuneiform\", \"medial cuneiform\"]\n",
    "\n",
    "def bones_quiz(foot_bones):\n",
    "    score = 0\n",
    "    for i in range(2):\n",
    "        bones_guessed = input('Which bones?: ')\n",
    "        \n",
    "        if bones_guessed in foot_bones:\n",
    "            print('Good Job!')\n",
    "            score +=1\n",
    "            print(score)\n",
    "            foot_bones.remove(bones_guessed)\n",
    "        else:\n",
    "            print('Sorry, that is wrong.')\n",
    "            print(score)\n",
    "            \n",
    "    \n",
    "\n",
    "bones_quiz(foot_bones)\n",
    "\n",
    "\n",
    "\n",
    "\n"
   ]
  },
  {
   "cell_type": "code",
   "execution_count": 858,
   "metadata": {},
   "outputs": [
    {
     "name": "stdout",
     "output_type": "stream",
     "text": [
      "1\n",
      "2\n",
      "3\n",
      "4\n",
      "5\n",
      "6\n",
      "5040\n",
      "1\n",
      "2\n",
      "6\n",
      "24\n",
      "120\n",
      "720\n",
      "5040\n",
      "November\n",
      "Annual\n",
      "Calendar\n",
      "Solstice\n"
     ]
    }
   ],
   "source": [
    "for i in range(6):\n",
    "    i+=1 \n",
    "    print(i)\n",
    "\n",
    "def factorial(n):\n",
    "    product = 1\n",
    "    while n > 0:\n",
    "        product *= n\n",
    "        n -= 1\n",
    "    return product\n",
    "print(factorial(7))\n",
    "\n",
    "total = 1\n",
    "for i in range(1,8):\n",
    "    total *= i\n",
    "    print(total)\n",
    "    \n",
    "#Use range(stop) to print the second half of spell_list below\n",
    "\n",
    "#[ ] print the second half of a spelling list using a range(stop) loop to iterate the list\n",
    "spell_list = [\"Wednesday\", \"Tuesday\", \"February\", \"November\", \"Annual\", \"Calendar\", \"Solstice\"]\n",
    "half_1 = int(len(spell_list)/2)\n",
    "half_2 = int(len(spell_list))\n",
    "\n",
    "for word in range(half_1, half_2):\n",
    "    print(spell_list[word])"
   ]
  },
  {
   "cell_type": "code",
   "execution_count": 874,
   "metadata": {},
   "outputs": [
    {
     "name": "stdout",
     "output_type": "stream",
     "text": [
      "[5, 6, 7, 8, 9, 10, 11, 12, 13, 14, 15]\n",
      "February\n",
      "November\n",
      "Annual\n",
      "Annual\n",
      "Calendar\n",
      "Solstice\n"
     ]
    }
   ],
   "source": [
    "\n",
    "# [ ] using range(start,stop), .append() the numbers 5 to 15 to the list: five_fifteen\n",
    "# [ ] print list five_fifteen\n",
    "\n",
    "five_fifteen = []\n",
    "\n",
    "for num in range(5,16):\n",
    "    five_fifteen.append(num)\n",
    "    \n",
    "print(five_fifteen)\n",
    "\n",
    "\n",
    "# [ ] using range(start,stop) - print the 3rd, 4th and 5th words in spell_list\n",
    "# output should include \"February\", \"November\", \"Annual\"\n",
    "spell_list = [\"Tuesday\", \"Wednesday\", \"February\", \"November\", \"Annual\", \"Calendar\", \"Solstice\"]\n",
    "\n",
    "side1 = (len(spell_list)) - 5\n",
    "side2 = (len(spell_list)) - 2\n",
    "length = len(spell_list)\n",
    "\n",
    "for words in range(side1, side2):\n",
    "    print(spell_list[words])\n",
    "\n",
    "\n",
    "fromannual = (len(spell_list)) - 3\n",
    "# [ ] using code find the index of \"Annual\" in spell_list\n",
    "# [ ] using range, print the spell_list including \"Annual\" to end of list\n",
    "spell_list = [\"Tuesday\", \"Wednesday\", \"February\", \"November\", \"Annual\", \"Calendar\", \"Solstice\"]\n",
    "\n",
    "for endwords in range(fromannual, length):\n",
    "    print(spell_list[endwords])\n"
   ]
  },
  {
   "cell_type": "code",
   "execution_count": 879,
   "metadata": {},
   "outputs": [
    {
     "name": "stdout",
     "output_type": "stream",
     "text": [
      "10\n",
      "12\n",
      "14\n",
      "16\n",
      "18\n",
      "20\n",
      "19\n",
      "18\n",
      "17\n",
      "16\n",
      "15\n",
      "14\n",
      "13\n",
      "12\n",
      "11\n",
      "10\n",
      "Tuesday\n",
      "November\n",
      "Solstice\n"
     ]
    },
    {
     "ename": "IndexError",
     "evalue": "list index out of range",
     "output_type": "error",
     "traceback": [
      "\u001b[0;31m---------------------------------------------------------------------------\u001b[0m",
      "\u001b[0;31mIndexError\u001b[0m                                Traceback (most recent call last)",
      "\u001b[0;32m<ipython-input-879-a1f732830da5>\u001b[0m in \u001b[0;36m<module>\u001b[0;34m\u001b[0m\n\u001b[1;32m     13\u001b[0m \u001b[0;34m\u001b[0m\u001b[0m\n\u001b[1;32m     14\u001b[0m \u001b[0;32mfor\u001b[0m \u001b[0mn3\u001b[0m \u001b[0;32min\u001b[0m \u001b[0mrange\u001b[0m\u001b[0;34m(\u001b[0m\u001b[0;36m0\u001b[0m\u001b[0;34m,\u001b[0m\u001b[0;36m10\u001b[0m\u001b[0;34m,\u001b[0m\u001b[0;36m3\u001b[0m\u001b[0;34m)\u001b[0m\u001b[0;34m:\u001b[0m\u001b[0;34m\u001b[0m\u001b[0;34m\u001b[0m\u001b[0m\n\u001b[0;32m---> 15\u001b[0;31m     \u001b[0mprint\u001b[0m\u001b[0;34m(\u001b[0m\u001b[0mspell_list\u001b[0m\u001b[0;34m[\u001b[0m\u001b[0mn3\u001b[0m\u001b[0;34m]\u001b[0m\u001b[0;34m)\u001b[0m\u001b[0;34m\u001b[0m\u001b[0;34m\u001b[0m\u001b[0m\n\u001b[0m",
      "\u001b[0;31mIndexError\u001b[0m: list index out of range"
     ]
    }
   ],
   "source": [
    "# [ ] print numbers 10 to 20 by 2's using range\n",
    "\n",
    "for n in range(10,20,2):\n",
    "    print(n)\n",
    "\n",
    "# [ ] print numbers 20 to 10 using range (need to countdown)\n",
    "# Hint: start at 20\n",
    "\n",
    "for n2 in range(20,9,-1):\n",
    "    print(n2)\n",
    "# [ ] print first and every third word in spell_list\n",
    "spell_list = [\"Tuesday\", \"Wednesday\", \"February\", \"November\", \"Annual\", \"Calendar\", \"Solstice\"]\n",
    "\n",
    "for n3 in range(0,10,3):\n",
    "    print(spell_list[n3])"
   ]
  },
  {
   "cell_type": "code",
   "execution_count": 893,
   "metadata": {},
   "outputs": [
    {
     "name": "stdout",
     "output_type": "stream",
     "text": [
      "complexity\n",
      "['c', 'm', 'l', 'x', 't']\n",
      "['o', 'p', 'e', 'i', 'y']\n"
     ]
    }
   ],
   "source": [
    "\n",
    "# [ ] complete List of letters program- test with the word \"complexity\"\n",
    "\n",
    "word = input()\n",
    "long = len(word)\n",
    "odd_letters = []\n",
    "even_letters = []\n",
    "\n",
    "for letters in range(0,long, 2):\n",
    "    odd_letters += word[letters]\n",
    "    \n",
    "print(odd_letters)\n",
    "\n",
    "for letters in range(1,long,2):\n",
    "    even_letters+= word[letters]\n",
    "    \n",
    "print(even_letters)\n",
    "\n"
   ]
  },
  {
   "cell_type": "code",
   "execution_count": 895,
   "metadata": {},
   "outputs": [
    {
     "name": "stdout",
     "output_type": "stream",
     "text": [
      "1\n",
      "3\n",
      "5\n",
      "7\n",
      "9\n"
     ]
    }
   ],
   "source": [
    "# [ ] fix the error printing odd numbers 1 - 9\n",
    "for num in range(1,10,2):\n",
    "    print(num)\n"
   ]
  },
  {
   "cell_type": "code",
   "execution_count": 917,
   "metadata": {
    "scrolled": true
   },
   "outputs": [
    {
     "name": "stdout",
     "output_type": "stream",
     "text": [
      "['chicken', 'blue jay', 'crow', 'pigeon', 'hummingbird', 'raven', 'hawk']\n",
      "[1, 2, 3, 4, 5, 6, 7, 8, 9, 10, 20, 30, 40, 50, 60, 70, 80, 90]\n"
     ]
    }
   ],
   "source": [
    "# [ ] extend the list common_birds with list birds_seen which you must create\n",
    "common_birds = [\"chicken\", \"blue jay\", \"crow\", \"pigeon\"]\n",
    "\n",
    "birds_seen = [\"hummingbird\", \"raven\", \"hawk\"]\n",
    "\n",
    "common_birds.extend(birds_seen)\n",
    "\n",
    "print(common_birds)\n",
    "\n",
    "# [ ] Create 2 lists zero_nine and ten_onehundred that contain 1-9, and 10 - 100 by 10's.\n",
    "# [ ] use list addition to concatenate the lists into all_num and print\n",
    "\n",
    "\n",
    "\n",
    "zero_nine = []\n",
    "for n in range(1,10):\n",
    "    zero_nine.append(n)\n",
    "    \n",
    "ten_onehundred = []\n",
    "for n2 in range(10,100,10):\n",
    "    ten_onehundred.append(n2)\n",
    "    \n",
    "#zero_nine.extend(ten_onehundred)\n",
    "\n",
    "print(zero_nine + ten_onehundred)"
   ]
  },
  {
   "cell_type": "code",
   "execution_count": 920,
   "metadata": {},
   "outputs": [
    {
     "name": "stdout",
     "output_type": "stream",
     "text": [
      "[100, 95, 90, 85, 80, 75, 70, 65, 60, 55, 50, 45, 40, 35, 30, 25, 20, 15, 10, 5]\n",
      "[4, 8, 12, 16, 20, 24, 28, 32, 36, 40, 44, 44, 40, 36, 32, 28, 24, 20, 16, 12, 8, 4]\n"
     ]
    }
   ],
   "source": [
    "# [ ] create and  print a list of multiples of 5 from 5 to 100\n",
    "# { ] reverse the list and print\n",
    "\n",
    "fiveguys = []\n",
    "for n in range(5, 101, 5):\n",
    "    fiveguys.append(n)\n",
    "fiveguys.reverse()\n",
    "print(fiveguys)\n",
    "\n",
    "# [ ] Create two lists: fours & more_fours containing multiples of four from 4 to 44\n",
    "# [ ] combine and print so that the output is mirrored [44, 40,...8, 4, 4, 8, ...40, 44]\n",
    "\n",
    "fours = []\n",
    "\n",
    "more_fours = []\n",
    "\n",
    "for x in range(4,45,4):\n",
    "    fours.append(x)\n",
    "\n",
    "for y in range(4,45,4):\n",
    "    more_fours.append(y)\n",
    "    \n",
    "more_fours.reverse()\n",
    "\n",
    "print (fours + more_fours)"
   ]
  },
  {
   "cell_type": "code",
   "execution_count": 931,
   "metadata": {},
   "outputs": [
    {
     "name": "stdout",
     "output_type": "stream",
     "text": [
      "['Dubai', 'Hyderabad', 'Mexico City', 'Munich', 'New York', 'Shanghai', 'São Paulo', 'Toyko']\n",
      "['Dubai', 'Hyderabad', 'Mexico City', 'Munich', 'New York']\n",
      "['Hyderabad', 'Mexico City', 'Munich', 'New York', 'Shanghai', 'São Paulo']\n"
     ]
    }
   ],
   "source": [
    "# [ ] print cites from visited_cities list in alphbetical order using .sort()\n",
    "# [ ] only print cities that names start \"Q\" or earlier\n",
    "visited_cities = [\"New York\", \"Shanghai\", \"Munich\", \"Toyko\", \"Dubai\", \"Mexico City\", \"São Paulo\", \"Hyderabad\"]\n",
    "visited_cities.sort()\n",
    "print(visited_cities)\n",
    "preQcities = []\n",
    "preQ = len(visited_cities) - 2 \n",
    "length = len(visited_cities)\n",
    "for cities in visited_cities:\n",
    "    if cities[0] < 'Q':\n",
    "        preQcities.append(cities)\n",
    "print(preQcities)\n",
    "\n",
    "# [ ] make a sorted copy (sorted_cities) of visited_cities list\n",
    "# [ ] remove city names 5 characters or less from sorted_cities \n",
    "# [ ] print visitied cites and sorted cities\n",
    "visited_cities = [\"New York\", \"Shanghai\", \"Munich\", \"Toyko\", \"Dubai\", \"Mexico City\", \"São Paulo\", \"Hyderabad\"]\n",
    "\n",
    "sorted_cities = sorted(visited_cities)\n",
    "\n",
    "for cities in sorted_cities:\n",
    "    if len(cities) <= 5:\n",
    "        sorted_cities.remove(cities)\n",
    "        \n",
    "print(sorted_cities)"
   ]
  },
  {
   "cell_type": "code",
   "execution_count": 974,
   "metadata": {},
   "outputs": [
    {
     "name": "stdout",
     "output_type": "stream",
     "text": [
      "dog\n",
      "['dog']\n",
      "cat\n",
      "['dog', 'cat']\n",
      "\n",
      "['Chimpanzee', 'Panther', 'Wolf', 'Armadillo', 'dog', 'cat']\n",
      "alpha or reverse alpha?alpha\n",
      "['Armadillo', 'Chimpanzee', 'Panther', 'Wolf', 'cat', 'dog']\n"
     ]
    },
    {
     "ename": "KeyboardInterrupt",
     "evalue": "",
     "output_type": "error",
     "traceback": [
      "\u001b[0;31m---------------------------------------------------------------------------\u001b[0m",
      "\u001b[0;31mKeyboardInterrupt\u001b[0m                         Traceback (most recent call last)",
      "\u001b[0;32m/Library/Frameworks/Python.framework/Versions/3.8/lib/python3.8/site-packages/ipykernel/kernelbase.py\u001b[0m in \u001b[0;36m_input_request\u001b[0;34m(self, prompt, ident, parent, password)\u001b[0m\n\u001b[1;32m    883\u001b[0m             \u001b[0;32mtry\u001b[0m\u001b[0;34m:\u001b[0m\u001b[0;34m\u001b[0m\u001b[0;34m\u001b[0m\u001b[0m\n\u001b[0;32m--> 884\u001b[0;31m                 \u001b[0mident\u001b[0m\u001b[0;34m,\u001b[0m \u001b[0mreply\u001b[0m \u001b[0;34m=\u001b[0m \u001b[0mself\u001b[0m\u001b[0;34m.\u001b[0m\u001b[0msession\u001b[0m\u001b[0;34m.\u001b[0m\u001b[0mrecv\u001b[0m\u001b[0;34m(\u001b[0m\u001b[0mself\u001b[0m\u001b[0;34m.\u001b[0m\u001b[0mstdin_socket\u001b[0m\u001b[0;34m,\u001b[0m \u001b[0;36m0\u001b[0m\u001b[0;34m)\u001b[0m\u001b[0;34m\u001b[0m\u001b[0;34m\u001b[0m\u001b[0m\n\u001b[0m\u001b[1;32m    885\u001b[0m             \u001b[0;32mexcept\u001b[0m \u001b[0mException\u001b[0m\u001b[0;34m:\u001b[0m\u001b[0;34m\u001b[0m\u001b[0;34m\u001b[0m\u001b[0m\n",
      "\u001b[0;32m/Library/Frameworks/Python.framework/Versions/3.8/lib/python3.8/site-packages/jupyter_client/session.py\u001b[0m in \u001b[0;36mrecv\u001b[0;34m(self, socket, mode, content, copy)\u001b[0m\n\u001b[1;32m    802\u001b[0m         \u001b[0;32mtry\u001b[0m\u001b[0;34m:\u001b[0m\u001b[0;34m\u001b[0m\u001b[0;34m\u001b[0m\u001b[0m\n\u001b[0;32m--> 803\u001b[0;31m             \u001b[0mmsg_list\u001b[0m \u001b[0;34m=\u001b[0m \u001b[0msocket\u001b[0m\u001b[0;34m.\u001b[0m\u001b[0mrecv_multipart\u001b[0m\u001b[0;34m(\u001b[0m\u001b[0mmode\u001b[0m\u001b[0;34m,\u001b[0m \u001b[0mcopy\u001b[0m\u001b[0;34m=\u001b[0m\u001b[0mcopy\u001b[0m\u001b[0;34m)\u001b[0m\u001b[0;34m\u001b[0m\u001b[0;34m\u001b[0m\u001b[0m\n\u001b[0m\u001b[1;32m    804\u001b[0m         \u001b[0;32mexcept\u001b[0m \u001b[0mzmq\u001b[0m\u001b[0;34m.\u001b[0m\u001b[0mZMQError\u001b[0m \u001b[0;32mas\u001b[0m \u001b[0me\u001b[0m\u001b[0;34m:\u001b[0m\u001b[0;34m\u001b[0m\u001b[0;34m\u001b[0m\u001b[0m\n",
      "\u001b[0;32m/Library/Frameworks/Python.framework/Versions/3.8/lib/python3.8/site-packages/zmq/sugar/socket.py\u001b[0m in \u001b[0;36mrecv_multipart\u001b[0;34m(self, flags, copy, track)\u001b[0m\n\u001b[1;32m    474\u001b[0m         \"\"\"\n\u001b[0;32m--> 475\u001b[0;31m         \u001b[0mparts\u001b[0m \u001b[0;34m=\u001b[0m \u001b[0;34m[\u001b[0m\u001b[0mself\u001b[0m\u001b[0;34m.\u001b[0m\u001b[0mrecv\u001b[0m\u001b[0;34m(\u001b[0m\u001b[0mflags\u001b[0m\u001b[0;34m,\u001b[0m \u001b[0mcopy\u001b[0m\u001b[0;34m=\u001b[0m\u001b[0mcopy\u001b[0m\u001b[0;34m,\u001b[0m \u001b[0mtrack\u001b[0m\u001b[0;34m=\u001b[0m\u001b[0mtrack\u001b[0m\u001b[0;34m)\u001b[0m\u001b[0;34m]\u001b[0m\u001b[0;34m\u001b[0m\u001b[0;34m\u001b[0m\u001b[0m\n\u001b[0m\u001b[1;32m    476\u001b[0m         \u001b[0;31m# have first part already, only loop while more to receive\u001b[0m\u001b[0;34m\u001b[0m\u001b[0;34m\u001b[0m\u001b[0;34m\u001b[0m\u001b[0m\n",
      "\u001b[0;32mzmq/backend/cython/socket.pyx\u001b[0m in \u001b[0;36mzmq.backend.cython.socket.Socket.recv\u001b[0;34m()\u001b[0m\n",
      "\u001b[0;32mzmq/backend/cython/socket.pyx\u001b[0m in \u001b[0;36mzmq.backend.cython.socket.Socket.recv\u001b[0;34m()\u001b[0m\n",
      "\u001b[0;32mzmq/backend/cython/socket.pyx\u001b[0m in \u001b[0;36mzmq.backend.cython.socket._recv_copy\u001b[0;34m()\u001b[0m\n",
      "\u001b[0;32m/Library/Frameworks/Python.framework/Versions/3.8/lib/python3.8/site-packages/zmq/backend/cython/checkrc.pxd\u001b[0m in \u001b[0;36mzmq.backend.cython.checkrc._check_rc\u001b[0;34m()\u001b[0m\n",
      "\u001b[0;31mKeyboardInterrupt\u001b[0m: ",
      "\nDuring handling of the above exception, another exception occurred:\n",
      "\u001b[0;31mKeyboardInterrupt\u001b[0m                         Traceback (most recent call last)",
      "\u001b[0;32m<ipython-input-974-806c8e1afa82>\u001b[0m in \u001b[0;36m<module>\u001b[0;34m\u001b[0m\n\u001b[1;32m      5\u001b[0m \u001b[0manimals\u001b[0m \u001b[0;34m=\u001b[0m \u001b[0;34m[\u001b[0m\u001b[0;34m\"Chimpanzee\"\u001b[0m\u001b[0;34m,\u001b[0m \u001b[0;34m\"Panther\"\u001b[0m\u001b[0;34m,\u001b[0m \u001b[0;34m\"Wolf\"\u001b[0m\u001b[0;34m,\u001b[0m \u001b[0;34m\"Armadillo\"\u001b[0m\u001b[0;34m]\u001b[0m\u001b[0;34m\u001b[0m\u001b[0;34m\u001b[0m\u001b[0m\n\u001b[1;32m      6\u001b[0m \u001b[0;32mwhile\u001b[0m \u001b[0;32mTrue\u001b[0m\u001b[0;34m:\u001b[0m\u001b[0;34m\u001b[0m\u001b[0;34m\u001b[0m\u001b[0m\n\u001b[0;32m----> 7\u001b[0;31m     \u001b[0mwords\u001b[0m \u001b[0;34m=\u001b[0m \u001b[0minput\u001b[0m\u001b[0;34m(\u001b[0m\u001b[0;34m)\u001b[0m\u001b[0;34m\u001b[0m\u001b[0;34m\u001b[0m\u001b[0m\n\u001b[0m\u001b[1;32m      8\u001b[0m     \u001b[0;32mif\u001b[0m \u001b[0mwords\u001b[0m \u001b[0;34m!=\u001b[0m \u001b[0;34m\"\"\u001b[0m\u001b[0;34m:\u001b[0m\u001b[0;34m\u001b[0m\u001b[0;34m\u001b[0m\u001b[0m\n\u001b[1;32m      9\u001b[0m         \u001b[0madd_animals\u001b[0m\u001b[0;34m.\u001b[0m\u001b[0mappend\u001b[0m\u001b[0;34m(\u001b[0m\u001b[0mwords\u001b[0m\u001b[0;34m)\u001b[0m\u001b[0;34m\u001b[0m\u001b[0;34m\u001b[0m\u001b[0m\n",
      "\u001b[0;32m/Library/Frameworks/Python.framework/Versions/3.8/lib/python3.8/site-packages/ipykernel/kernelbase.py\u001b[0m in \u001b[0;36mraw_input\u001b[0;34m(self, prompt)\u001b[0m\n\u001b[1;32m    854\u001b[0m                 \u001b[0;34m\"raw_input was called, but this frontend does not support input requests.\"\u001b[0m\u001b[0;34m\u001b[0m\u001b[0;34m\u001b[0m\u001b[0m\n\u001b[1;32m    855\u001b[0m             )\n\u001b[0;32m--> 856\u001b[0;31m         return self._input_request(str(prompt),\n\u001b[0m\u001b[1;32m    857\u001b[0m             \u001b[0mself\u001b[0m\u001b[0;34m.\u001b[0m\u001b[0m_parent_ident\u001b[0m\u001b[0;34m,\u001b[0m\u001b[0;34m\u001b[0m\u001b[0;34m\u001b[0m\u001b[0m\n\u001b[1;32m    858\u001b[0m             \u001b[0mself\u001b[0m\u001b[0;34m.\u001b[0m\u001b[0m_parent_header\u001b[0m\u001b[0;34m,\u001b[0m\u001b[0;34m\u001b[0m\u001b[0;34m\u001b[0m\u001b[0m\n",
      "\u001b[0;32m/Library/Frameworks/Python.framework/Versions/3.8/lib/python3.8/site-packages/ipykernel/kernelbase.py\u001b[0m in \u001b[0;36m_input_request\u001b[0;34m(self, prompt, ident, parent, password)\u001b[0m\n\u001b[1;32m    887\u001b[0m             \u001b[0;32mexcept\u001b[0m \u001b[0mKeyboardInterrupt\u001b[0m\u001b[0;34m:\u001b[0m\u001b[0;34m\u001b[0m\u001b[0;34m\u001b[0m\u001b[0m\n\u001b[1;32m    888\u001b[0m                 \u001b[0;31m# re-raise KeyboardInterrupt, to truncate traceback\u001b[0m\u001b[0;34m\u001b[0m\u001b[0;34m\u001b[0m\u001b[0;34m\u001b[0m\u001b[0m\n\u001b[0;32m--> 889\u001b[0;31m                 \u001b[0;32mraise\u001b[0m \u001b[0mKeyboardInterrupt\u001b[0m\u001b[0;34m\u001b[0m\u001b[0;34m\u001b[0m\u001b[0m\n\u001b[0m\u001b[1;32m    890\u001b[0m             \u001b[0;32melse\u001b[0m\u001b[0;34m:\u001b[0m\u001b[0;34m\u001b[0m\u001b[0;34m\u001b[0m\u001b[0m\n\u001b[1;32m    891\u001b[0m                 \u001b[0;32mbreak\u001b[0m\u001b[0;34m\u001b[0m\u001b[0;34m\u001b[0m\u001b[0m\n",
      "\u001b[0;31mKeyboardInterrupt\u001b[0m: "
     ]
    }
   ],
   "source": [
    "\n",
    "\n",
    "# [ ] build a list (add_animals) using a while loop, stop adding when an empty string is entered\n",
    "add_animals = []\n",
    "\n",
    "\n",
    "animals = [\"Chimpanzee\", \"Panther\", \"Wolf\", \"Armadillo\"]\n",
    "while True:\n",
    "    words = input()\n",
    "    if words != \"\":\n",
    "        add_animals.append(words)\n",
    "        print(add_animals)\n",
    "    else:\n",
    "        animals.extend(add_animals)\n",
    "        print(animals)\n",
    "        newwords = input('alpha or reverse alpha?')\n",
    "        \n",
    "        if newwords == 'alpha':\n",
    "            animals.sort()\n",
    "            print(animals)\n",
    "            \n",
    "        elif newwords == 'reverse alpha':\n",
    "            animals.sort()\n",
    "            animals.reverse()\n",
    "            print(animals)\n",
    "            \n",
    "\n",
    "#step 2 Merge the lists: add_animals into animals\n",
    "\n",
    "# [ ] extend the lists into animals, then sort \n",
    "\n",
    "\n",
    "\n",
    "#step 3 Allow animals list to be viewed alpha or reverse alpha order\n",
    "\n",
    "# [ ] get input if list should be viewed alpha or reverse alpha and display list\n"
   ]
  },
  {
   "cell_type": "code",
   "execution_count": 987,
   "metadata": {},
   "outputs": [
    {
     "name": "stdout",
     "output_type": "stream",
     "text": [
      "Jack\n",
      "and\n",
      "Jill\n",
      "went\n",
      "up\n",
      "the\n",
      "hill\n",
      "To\n",
      "fetch\n",
      "a\n",
      "pail\n",
      "of\n",
      "water\n",
      "['Python', 'uses', 'spaces', 'for', 'indentation']\n",
      "Python\n",
      "spaces\n",
      "indentation\n",
      "Write code frequently\n",
      "Save code frequently\n",
      "Comment code frequently\n",
      "Study code frequently\n",
      "\n"
     ]
    }
   ],
   "source": [
    "# [ ] split the string(rhyme) into a list of words (rhyme_words)\n",
    "# [ ] print each word on it's own line\n",
    "rhyme = 'Jack and Jill went up the hill To fetch a pail of water' \n",
    "rhyme_words = rhyme.split()\n",
    "for words in rhyme_words:\n",
    "    print(words)\n",
    "\n",
    "# [ ] split code_tip into a list and print the first and every other word\n",
    "code_tip = \"Python uses spaces for indentation\"\n",
    "tip_words = code_tip.split()\n",
    "print(tip_words)\n",
    "\n",
    "for words in range(0,6,2):\n",
    "    print(tip_words[words])\n",
    "    \n",
    "# [ ] split poem into a list of phrases by splitting on \"*\" a\n",
    "# [ ] print each phrase on a new line in title case\n",
    "poem = \"Write code frequently*Save code frequently*Comment code frequently*Study code frequently*\"\n",
    "stanzas = poem.split('*')\n",
    "for words in stanzas:\n",
    "    print(words)"
   ]
  },
  {
   "cell_type": "code",
   "execution_count": 994,
   "metadata": {},
   "outputs": [
    {
     "name": "stdout",
     "output_type": "stream",
     "text": [
      "Asterisk\n",
      "What should be used to join these words? :*\n",
      "Jack*and*Jill*went*up*the*hill*To*fetch*a*pail*of*water\n",
      "What should be used to join these words? :&\n",
      "Jack&and&Jill&went&up&the&hill&To&fetch&a&pail&of&water\n",
      "What should be used to join these words? :q\n",
      "JackqandqJillqwentqupqtheqhillqToqfetchqaqpailqofqwater\n",
      "What should be used to join these words? :\n",
      "JackandJillwentupthehillTofetchapailofwater\n",
      "What should be used to join these words? : \n",
      "Jack and Jill went up the hill To fetch a pail of water\n",
      "What should be used to join these words? :-\n",
      "Jack-and-Jill-went-up-the-hill-To-fetch-a-pail-of-water\n",
      "What should be used to join these words? :=\n",
      "Jack=and=Jill=went=up=the=hill=To=fetch=a=pail=of=water\n",
      "What should be used to join these words? :.\n",
      "Jack.and.Jill.went.up.the.hill.To.fetch.a.pail.of.water\n",
      "What should be used to join these words? :_\n",
      "Jack_and_Jill_went_up_the_hill_To_fetch_a_pail_of_water\n",
      "What should be used to join these words? :adkfja\n",
      "JackadkfjaandadkfjaJilladkfjawentadkfjaupadkfjatheadkfjahilladkfjaToadkfjafetchadkfjaaadkfjapailadkfjaofadkfjawater\n"
     ]
    },
    {
     "ename": "KeyboardInterrupt",
     "evalue": "",
     "output_type": "error",
     "traceback": [
      "\u001b[0;31m---------------------------------------------------------------------------\u001b[0m",
      "\u001b[0;31mKeyboardInterrupt\u001b[0m                         Traceback (most recent call last)",
      "\u001b[0;32m/Library/Frameworks/Python.framework/Versions/3.8/lib/python3.8/site-packages/ipykernel/kernelbase.py\u001b[0m in \u001b[0;36m_input_request\u001b[0;34m(self, prompt, ident, parent, password)\u001b[0m\n\u001b[1;32m    883\u001b[0m             \u001b[0;32mtry\u001b[0m\u001b[0;34m:\u001b[0m\u001b[0;34m\u001b[0m\u001b[0;34m\u001b[0m\u001b[0m\n\u001b[0;32m--> 884\u001b[0;31m                 \u001b[0mident\u001b[0m\u001b[0;34m,\u001b[0m \u001b[0mreply\u001b[0m \u001b[0;34m=\u001b[0m \u001b[0mself\u001b[0m\u001b[0;34m.\u001b[0m\u001b[0msession\u001b[0m\u001b[0;34m.\u001b[0m\u001b[0mrecv\u001b[0m\u001b[0;34m(\u001b[0m\u001b[0mself\u001b[0m\u001b[0;34m.\u001b[0m\u001b[0mstdin_socket\u001b[0m\u001b[0;34m,\u001b[0m \u001b[0;36m0\u001b[0m\u001b[0;34m)\u001b[0m\u001b[0;34m\u001b[0m\u001b[0;34m\u001b[0m\u001b[0m\n\u001b[0m\u001b[1;32m    885\u001b[0m             \u001b[0;32mexcept\u001b[0m \u001b[0mException\u001b[0m\u001b[0;34m:\u001b[0m\u001b[0;34m\u001b[0m\u001b[0;34m\u001b[0m\u001b[0m\n",
      "\u001b[0;32m/Library/Frameworks/Python.framework/Versions/3.8/lib/python3.8/site-packages/jupyter_client/session.py\u001b[0m in \u001b[0;36mrecv\u001b[0;34m(self, socket, mode, content, copy)\u001b[0m\n\u001b[1;32m    802\u001b[0m         \u001b[0;32mtry\u001b[0m\u001b[0;34m:\u001b[0m\u001b[0;34m\u001b[0m\u001b[0;34m\u001b[0m\u001b[0m\n\u001b[0;32m--> 803\u001b[0;31m             \u001b[0mmsg_list\u001b[0m \u001b[0;34m=\u001b[0m \u001b[0msocket\u001b[0m\u001b[0;34m.\u001b[0m\u001b[0mrecv_multipart\u001b[0m\u001b[0;34m(\u001b[0m\u001b[0mmode\u001b[0m\u001b[0;34m,\u001b[0m \u001b[0mcopy\u001b[0m\u001b[0;34m=\u001b[0m\u001b[0mcopy\u001b[0m\u001b[0;34m)\u001b[0m\u001b[0;34m\u001b[0m\u001b[0;34m\u001b[0m\u001b[0m\n\u001b[0m\u001b[1;32m    804\u001b[0m         \u001b[0;32mexcept\u001b[0m \u001b[0mzmq\u001b[0m\u001b[0;34m.\u001b[0m\u001b[0mZMQError\u001b[0m \u001b[0;32mas\u001b[0m \u001b[0me\u001b[0m\u001b[0;34m:\u001b[0m\u001b[0;34m\u001b[0m\u001b[0;34m\u001b[0m\u001b[0m\n",
      "\u001b[0;32m/Library/Frameworks/Python.framework/Versions/3.8/lib/python3.8/site-packages/zmq/sugar/socket.py\u001b[0m in \u001b[0;36mrecv_multipart\u001b[0;34m(self, flags, copy, track)\u001b[0m\n\u001b[1;32m    474\u001b[0m         \"\"\"\n\u001b[0;32m--> 475\u001b[0;31m         \u001b[0mparts\u001b[0m \u001b[0;34m=\u001b[0m \u001b[0;34m[\u001b[0m\u001b[0mself\u001b[0m\u001b[0;34m.\u001b[0m\u001b[0mrecv\u001b[0m\u001b[0;34m(\u001b[0m\u001b[0mflags\u001b[0m\u001b[0;34m,\u001b[0m \u001b[0mcopy\u001b[0m\u001b[0;34m=\u001b[0m\u001b[0mcopy\u001b[0m\u001b[0;34m,\u001b[0m \u001b[0mtrack\u001b[0m\u001b[0;34m=\u001b[0m\u001b[0mtrack\u001b[0m\u001b[0;34m)\u001b[0m\u001b[0;34m]\u001b[0m\u001b[0;34m\u001b[0m\u001b[0;34m\u001b[0m\u001b[0m\n\u001b[0m\u001b[1;32m    476\u001b[0m         \u001b[0;31m# have first part already, only loop while more to receive\u001b[0m\u001b[0;34m\u001b[0m\u001b[0;34m\u001b[0m\u001b[0;34m\u001b[0m\u001b[0m\n",
      "\u001b[0;32mzmq/backend/cython/socket.pyx\u001b[0m in \u001b[0;36mzmq.backend.cython.socket.Socket.recv\u001b[0;34m()\u001b[0m\n",
      "\u001b[0;32mzmq/backend/cython/socket.pyx\u001b[0m in \u001b[0;36mzmq.backend.cython.socket.Socket.recv\u001b[0;34m()\u001b[0m\n",
      "\u001b[0;32mzmq/backend/cython/socket.pyx\u001b[0m in \u001b[0;36mzmq.backend.cython.socket._recv_copy\u001b[0;34m()\u001b[0m\n",
      "\u001b[0;32m/Library/Frameworks/Python.framework/Versions/3.8/lib/python3.8/site-packages/zmq/backend/cython/checkrc.pxd\u001b[0m in \u001b[0;36mzmq.backend.cython.checkrc._check_rc\u001b[0;34m()\u001b[0m\n",
      "\u001b[0;31mKeyboardInterrupt\u001b[0m: ",
      "\nDuring handling of the above exception, another exception occurred:\n",
      "\u001b[0;31mKeyboardInterrupt\u001b[0m                         Traceback (most recent call last)",
      "\u001b[0;32m<ipython-input-994-f5dc91a890fd>\u001b[0m in \u001b[0;36m<module>\u001b[0;34m\u001b[0m\n\u001b[1;32m      9\u001b[0m \u001b[0;34m\u001b[0m\u001b[0m\n\u001b[1;32m     10\u001b[0m \u001b[0;32mwhile\u001b[0m \u001b[0;32mTrue\u001b[0m\u001b[0;34m:\u001b[0m\u001b[0;34m\u001b[0m\u001b[0;34m\u001b[0m\u001b[0m\n\u001b[0;32m---> 11\u001b[0;31m     \u001b[0mjoiner\u001b[0m \u001b[0;34m=\u001b[0m \u001b[0minput\u001b[0m\u001b[0;34m(\u001b[0m\u001b[0;34m'What should be used to join these words? :'\u001b[0m\u001b[0;34m)\u001b[0m\u001b[0;34m\u001b[0m\u001b[0;34m\u001b[0m\u001b[0m\n\u001b[0m\u001b[1;32m     12\u001b[0m     \u001b[0;32mif\u001b[0m \u001b[0mjoiner\u001b[0m \u001b[0;34m!=\u001b[0m \u001b[0;34m\"\"\u001b[0m\u001b[0;34m:\u001b[0m\u001b[0;34m\u001b[0m\u001b[0;34m\u001b[0m\u001b[0m\n\u001b[1;32m     13\u001b[0m         \u001b[0mprint\u001b[0m\u001b[0;34m(\u001b[0m\u001b[0mjoiner\u001b[0m\u001b[0;34m.\u001b[0m\u001b[0mjoin\u001b[0m\u001b[0;34m(\u001b[0m\u001b[0mphrase_words\u001b[0m\u001b[0;34m)\u001b[0m\u001b[0;34m)\u001b[0m\u001b[0;34m\u001b[0m\u001b[0;34m\u001b[0m\u001b[0m\n",
      "\u001b[0;32m/Library/Frameworks/Python.framework/Versions/3.8/lib/python3.8/site-packages/ipykernel/kernelbase.py\u001b[0m in \u001b[0;36mraw_input\u001b[0;34m(self, prompt)\u001b[0m\n\u001b[1;32m    854\u001b[0m                 \u001b[0;34m\"raw_input was called, but this frontend does not support input requests.\"\u001b[0m\u001b[0;34m\u001b[0m\u001b[0;34m\u001b[0m\u001b[0m\n\u001b[1;32m    855\u001b[0m             )\n\u001b[0;32m--> 856\u001b[0;31m         return self._input_request(str(prompt),\n\u001b[0m\u001b[1;32m    857\u001b[0m             \u001b[0mself\u001b[0m\u001b[0;34m.\u001b[0m\u001b[0m_parent_ident\u001b[0m\u001b[0;34m,\u001b[0m\u001b[0;34m\u001b[0m\u001b[0;34m\u001b[0m\u001b[0m\n\u001b[1;32m    858\u001b[0m             \u001b[0mself\u001b[0m\u001b[0;34m.\u001b[0m\u001b[0m_parent_header\u001b[0m\u001b[0;34m,\u001b[0m\u001b[0;34m\u001b[0m\u001b[0;34m\u001b[0m\u001b[0m\n",
      "\u001b[0;32m/Library/Frameworks/Python.framework/Versions/3.8/lib/python3.8/site-packages/ipykernel/kernelbase.py\u001b[0m in \u001b[0;36m_input_request\u001b[0;34m(self, prompt, ident, parent, password)\u001b[0m\n\u001b[1;32m    887\u001b[0m             \u001b[0;32mexcept\u001b[0m \u001b[0mKeyboardInterrupt\u001b[0m\u001b[0;34m:\u001b[0m\u001b[0;34m\u001b[0m\u001b[0;34m\u001b[0m\u001b[0m\n\u001b[1;32m    888\u001b[0m                 \u001b[0;31m# re-raise KeyboardInterrupt, to truncate traceback\u001b[0m\u001b[0;34m\u001b[0m\u001b[0;34m\u001b[0m\u001b[0;34m\u001b[0m\u001b[0m\n\u001b[0;32m--> 889\u001b[0;31m                 \u001b[0;32mraise\u001b[0m \u001b[0mKeyboardInterrupt\u001b[0m\u001b[0;34m\u001b[0m\u001b[0;34m\u001b[0m\u001b[0m\n\u001b[0m\u001b[1;32m    890\u001b[0m             \u001b[0;32melse\u001b[0m\u001b[0;34m:\u001b[0m\u001b[0;34m\u001b[0m\u001b[0;34m\u001b[0m\u001b[0m\n\u001b[1;32m    891\u001b[0m                 \u001b[0;32mbreak\u001b[0m\u001b[0;34m\u001b[0m\u001b[0;34m\u001b[0m\u001b[0m\n",
      "\u001b[0;31mKeyboardInterrupt\u001b[0m: "
     ]
    }
   ],
   "source": [
    "# [ ] .join() letters list objects with an Asterisk: \"*\"\n",
    "letters = [\"A\", \"s\", \"t\", \"e\", \"r\", \"i\", \"s\", \"k\"]\n",
    "no_space= \"\"\n",
    "print(no_space.join(letters))\n",
    "\n",
    "#get user input on what to use to join words (\" \", *, -, etc...) - store in variable: separator then join pharse_words with the separator and print\n",
    "# [ ] complete Choose the separator\n",
    "phrase_words = ['Jack', 'and', 'Jill', 'went', 'up', 'the', 'hill', 'To', 'fetch', 'a', 'pail', 'of', 'water']\n",
    "\n",
    "while True:\n",
    "    joiner = input('What should be used to join these words? :')\n",
    "    if joiner != \"\":\n",
    "        print(joiner.join(phrase_words))\n",
    "    else:\n",
    "        nothing = \"\"\n",
    "        print(nothing.join(phrase_words))"
   ]
  },
  {
   "cell_type": "code",
   "execution_count": 1008,
   "metadata": {},
   "outputs": [
    {
     "name": "stdout",
     "output_type": "stream",
     "text": [
      "The  \n",
      "\n",
      "more  \n",
      "\n",
      "you  \n",
      "\n",
      "study  \n",
      "\n",
      "and  \n",
      "\n",
      "learn,  \n",
      "\n",
      "the  \n",
      "\n",
      "more  \n",
      "\n",
      "you  \n",
      "\n",
      "know...['3', '4', '2', '4', '2', '4', '3', '2', '4', '3', '2', '3', '4', '2', '7', '3', '1', '0', '2', '9', '8', '3', '7', '1', '0', '9', '2', '8', '3', '7', '0', '1', '2', '7', '8']\n",
      "3+4+2+4+2+4+3+2+4+3+2+3+4+2+7+3+1+0+2+9+8+3+7+1+0+9+2+8+3+7+0+1+2+7+8 =\n",
      "total =  130\n"
     ]
    }
   ],
   "source": [
    "Msg_characters = list(\"Always test your code\")\n",
    "\n",
    "# [ ] create a string (fact) of 20 or more characters and cast to a list (fact_letters)\n",
    "# [ ] iterate fact, printing each char on one line, except for spaces print a new line\n",
    "\n",
    "fact = \"The more you study and learn, the more you know...\"\n",
    "fact_letters = list(fact)\n",
    "\n",
    "for letters in fact_letters:\n",
    "    if letters == \" \":\n",
    "        print(letters, '\\n')\n",
    "    else:\n",
    "        print(letters, end = '')\n",
    "\n",
    "        \n",
    "#create a 20 digit string, and cast to a list, then add all the digits as integers, print the equation and answer.\n",
    "#Hint: use cast to sum the digits, and .join() to create the equation (1+2+3+...)\n",
    "\n",
    "# [ ] create add the digits\n",
    "\n",
    "digits = list('34242432432342731029837109283701278')\n",
    "total = 0\n",
    "\n",
    "print(digits)\n",
    "\n",
    "\n",
    "print('+'.join(digits), \"=\")\n",
    "\n",
    "for num in digits:\n",
    "    total += int(num)\n",
    "print(\"total = \", total)"
   ]
  },
  {
   "cell_type": "code",
   "execution_count": 1041,
   "metadata": {},
   "outputs": [
    {
     "name": "stdout",
     "output_type": "stream",
     "text": [
      "Solid  - is state of matter #1\n",
      "Liquid  - is state of matter #2\n",
      "Gas  - is state of matter #3\n",
      "Plasma  - is state of matter #4\n",
      "['turkey', 'hawk', 'dove']\n",
      "one-pointers were scored 4 times.\n",
      "two-pointers were scored 8 times.\n",
      "three-pointers were scored 3 times.\n",
      "The total points scored were 29 points.\n"
     ]
    }
   ],
   "source": [
    "# [ ] print out the \"physical states of matter\" (matter_states) in 4 sentences using list iteration\n",
    "# each sentence should be of the format: \"Solid - is state of matter #1\" \n",
    "matter_states = ['solid', 'liquid', 'gas', 'plasma']\n",
    "\n",
    "for states in range(len(matter_states)):\n",
    "    print(matter_states[states].title(), \" - is state of matter #\" + str(states+1))\n",
    "# [ ] iterate the list (birds) to see any bird names start with \"c\" and remove that item from the list\n",
    "# print the birds list before and after removals\n",
    "birds = [\"turkey\", \"hawk\", \"chicken\", \"dove\", \"crow\"]\n",
    "\n",
    "for bird in birds:\n",
    "    if bird[0] == \"c\":\n",
    "        birds.remove(bird)\n",
    "print(birds)\n",
    "    \n",
    "# the team makes 1pt, 2pt or 3pt baskets\n",
    "# [ ] print the occurrence of each type of basket(1pt, 2pt, 3pt) & total points using the list baskets\n",
    "baskets = [2,2,2,1,2,1,3,3,1,2,2,2,2,1,3]\n",
    "score = 0\n",
    "\n",
    "print(\"one-pointers were scored \" + str(baskets.count(1)) + \" times.\")\n",
    "print(\"two-pointers were scored \" + str(baskets.count(2)) +  \" times.\")\n",
    "print(\"three-pointers were scored \" + str(baskets.count(3)) +  \" times.\")\n",
    "for points in baskets:\n",
    "    score +=points\n",
    "print(\"The total points scored were \"+ str(score) +\" points.\")\n",
    "    "
   ]
  },
  {
   "cell_type": "code",
   "execution_count": 1057,
   "metadata": {},
   "outputs": [
    {
     "name": "stdout",
     "output_type": "stream",
     "text": [
      "hello\n",
      "hello\n",
      "hello\n",
      "hello\n",
      "first half =\n",
      "Tuesday\n",
      "Wednesday\n",
      "February\n",
      "second half = \n",
      "November\n",
      "Annual\n",
      "Calendar\n",
      "Solstice\n",
      "[20, 21, 22, 23, 24, 25, 26, 27, 28, 29]\n",
      "245\n",
      "245\n"
     ]
    }
   ],
   "source": [
    "# [ ] using range() print \"hello\" 4 times\n",
    "for i in range(1,5):\n",
    "    print(\"hello\")\n",
    "\n",
    "# [ ] find spell_list length\n",
    "# [ ] use range() to iterate each half of spell_list  \n",
    "# [ ] label & print the first and second halves\n",
    "spell_list = [\"Tuesday\", \"Wednesday\", \"February\", \"November\", \"Annual\", \"Calendar\", \"Solstice\"]\n",
    "\n",
    "length = len(spell_list)\n",
    "half = int(length/2)\n",
    "print(\"first half =\" )\n",
    "for words in range(0, half):\n",
    "    \n",
    "    print(spell_list[words])\n",
    "print(\"second half = \" )   \n",
    "for word in range(half, length):\n",
    "    print(spell_list[word])\n",
    "    \n",
    "\n",
    "# [ ] build a list of numbers from 20 to 29: twenties \n",
    "# append each number to twenties list using range(start,stop) iteration\n",
    "# [ ] print twenties\n",
    "twenties = []\n",
    "\n",
    "for num in range(20,30):\n",
    "    twenties.append(num)\n",
    "print(twenties)\n",
    "\n",
    "# [ ] iterate through the numbers populated in the list twenties and add each number to a variable: total\n",
    "# [ ] print total\n",
    "\n",
    "total = 0\n",
    "for i in (twenties):\n",
    "    total += int(i)\n",
    "print(total)\n",
    "\n",
    "total = 0\n",
    "    \n",
    "for x in range(20,30):\n",
    "    total += x\n",
    "    \n",
    "print(total)\n",
    "    \n",
    "# check your answer above using range(start,stop)\n",
    "# [ ] iterate each number from 20 to 29 using range()\n",
    "# [ ] add each number to a variable (total) to calculate the sum\n",
    "# should match earlier task \n"
   ]
  },
  {
   "cell_type": "code",
   "execution_count": 1075,
   "metadata": {},
   "outputs": [
    {
     "name": "stdout",
     "output_type": "stream",
     "text": [
      "[1, 3, 5, 7, 9, 11, 13, 15, 17, 19, 21, 23, 25]\n",
      "[25, 23, 21, 19, 17, 15, 13, 11, 9, 7, 5, 3, 1]\n",
      "2 - Helium\n",
      "4 - Beryllium\n",
      "6 - Carbon\n",
      "8 - Oxygen\n",
      "10 - Neon\n",
      "12 - Magnesium\n",
      "14 - Silicon\n",
      "16 - Sulfur\n",
      "18 - Argon\n",
      "20 - Calcium\n",
      "1 - Hydrogen\n",
      "3 - Lithium\n",
      "5 - Boron\n",
      "7 - Nitrogen\n",
      "9 - Fluorine\n",
      "11 - Sodium\n",
      "13 - Aluminum\n",
      "15 - Phosphorus\n",
      "17 - Chlorine\n",
      "19 - Potassium\n",
      "21 - Scandium\n",
      "23 - Vanadium\n",
      "25 - Manganese\n",
      "27 - Cobalt\n",
      "29 - Copper\n",
      "31 - Gallium\n",
      "33 - Arsenic\n",
      "35 - Bromine\n",
      "37 - Rubidium\n",
      "39 - Yttrium\n"
     ]
    }
   ],
   "source": [
    "# [ ] create a list of odd numbers (odd_nums) from 1 to 25 using range(start,stop,skip)\n",
    "# [ ] print odd_nums\n",
    "odd_nums = []\n",
    "for num in range(1,26,2):\n",
    "    odd_nums.append(num)\n",
    "print(odd_nums)\n",
    "\n",
    "# [ ] create a Decending list of odd numbers (odd_nums) from 25 to 1 using range(start,stop,skip)\n",
    "# [ ] print odd_nums,  output should resemble [25, 23, ...]\n",
    "odd_nums = []\n",
    "for num in range(25,0,-2):\n",
    "    odd_nums.append(num)\n",
    "print(odd_nums)\n",
    "\n",
    "# [ ] print the even number elements \"2 - Helium, 4 - Beryllium,..\" in the list with the atomic number\n",
    "elements = ['Hydrogen', 'Helium', 'Lithium', 'Beryllium', 'Boron', 'Carbon', 'Nitrogen', 'Oxygen', 'Fluorine', \\\n",
    " 'Neon', 'Sodium', 'Magnesium', 'Aluminum', 'Silicon', 'Phosphorus', 'Sulfur', 'Chlorine', 'Argon', \\\n",
    " 'Potassium', 'Calcium']\n",
    "for element in range(1, len(elements), 2):\n",
    "    print(str(element + 1)+ \" - \" + elements[element])\n",
    "\n",
    "\n",
    "# [ ] print the odd number elements \"1 - Hydrogen, 3 - Lithium,..\" in the list with the atomic number elements_40\n",
    "elements_40 = ['Hydrogen', \\\n",
    " 'Helium', 'Lithium', 'Beryllium', 'Boron', 'Carbon', 'Nitrogen', 'Oxygen', 'Fluorine', \\\n",
    " 'Neon', 'Sodium', 'Magnesium', 'Aluminum', 'Silicon', 'Phosphorus', 'Sulfur', 'Chlorine', \\\n",
    " 'Argon', 'Potassium', 'Calcium', 'Scandium', 'Titanium', 'Vanadium', 'Chromium', 'Manganese', \\\n",
    " 'Iron', 'Cobalt', 'Nickel', 'Copper', 'Zinc', 'Gallium', 'Germanium', 'Arsenic', 'Selenium', \\\n",
    " 'Bromine', 'Krypton', 'Rubidium', 'Strontium', 'Yttrium', 'Zirconium']\n",
    "\n",
    "\n",
    "for element in range(0, len(elements_40), 2):\n",
    "    print(str(element + 1)+ \" - \" + elements_40[element])"
   ]
  },
  {
   "cell_type": "code",
   "execution_count": 1084,
   "metadata": {},
   "outputs": [
    {
     "name": "stdout",
     "output_type": "stream",
     "text": [
      "[20, 21, 22, 23, 24, 25, 26, 27, 28, 29, 30, 32, 34, 36, 38, 40, 42, 44, 46, 48]\n",
      "numbers_1: [20, 21, 22, 23, 24, 25, 26, 27, 28, 29]\n",
      "numbers_2 [30, 32, 34, 36, 38, 40, 42, 44, 46, 48]\n",
      "1st Row: ['Hydrogen', 'Helium']\n",
      "2nd Row: ['Lithium', 'Beryllium', 'Boron', 'Carbon', 'Nitrogen', 'Oxygen', 'Fluorine', 'Neon']\n",
      "Combined Row:  ['Hydrogen', 'Helium', 'Lithium', 'Beryllium', 'Boron', 'Carbon', 'Nitrogen', 'Oxygen', 'Fluorine', 'Neon']\n",
      "['Hydrogen', 'Helium', 'Lithium', 'Beryllium', 'Boron', 'Carbon', 'Nitrogen', 'Oxygen', 'Fluorine', 'Neon', 'Sodium', 'Magnesium', 'Aluminum', 'Silicon', 'Phosphorus', 'Sulfur', 'Chlorine', 'Argon']\n",
      "['Jack', 'and', 'Jill', 'went', 'up', 'the', 'hill', 'To', 'fetch', 'a', 'pail', 'of', 'water']\n"
     ]
    }
   ],
   "source": [
    "# [ ] print the combined lists (numbers_1 & numbers_2) using \"+\" operator\n",
    "numbers_1 = [20, 21, 22, 23, 24, 25, 26, 27, 28, 29]\n",
    "\n",
    "# pythonic casting of a range into a list\n",
    "numbers_2 = list(range(30,50,2))\n",
    "\n",
    "\n",
    "print(numbers_1 + numbers_2)\n",
    "print(\"numbers_1:\",numbers_1)\n",
    "print(\"numbers_2\",numbers_2)\n",
    "# [ ] print the combined element lists (first_row & second_row) using \".extend()\" method\n",
    "first_row = ['Hydrogen', 'Helium']\n",
    "second_row = ['Lithium', 'Beryllium', 'Boron', 'Carbon', 'Nitrogen', 'Oxygen', 'Fluorine', 'Neon']\n",
    "\n",
    "print(\"1st Row:\", first_row)\n",
    "print(\"2nd Row:\", second_row)\n",
    "first_row.extend(second_row)\n",
    "print(\"Combined Row: \", first_row)\n",
    "\n",
    "\n",
    "elem_1 = ['Hydrogen', 'Helium'] \n",
    "elem_2 = ['Lithium', 'Beryllium', 'Boron', 'Carbon', 'Nitrogen', 'Oxygen', 'Fluorine', 'Neon']\n",
    "elem_3 = ['Sodium', 'Magnesium', 'Aluminum', 'Silicon', 'Phosphorus', 'Sulfur', 'Chlorine', 'Argon']\n",
    "elem = elem_1 + elem_2 + elem_3\n",
    "print(elem)\n",
    "# [ ] .extend() jack_jill with \"next_line\" string - print the result\n",
    "jack_jill = ['Jack', 'and', 'Jill', 'went', 'up', 'the', 'hill']\n",
    "next_line = ['To', 'fetch', 'a', 'pail', 'of', 'water']\n",
    "\n",
    "jack_jill.extend(next_line)\n",
    "print(jack_jill)\n"
   ]
  },
  {
   "cell_type": "code",
   "execution_count": 1088,
   "metadata": {},
   "outputs": [
    {
     "name": "stdout",
     "output_type": "stream",
     "text": [
      "['Calcium', 'Potassium', 'Argon', 'Chlorine', 'Sulfur', 'Phosphorus', 'Silicon', 'Aluminum', 'Magnesium', 'Sodium', 'Neon', 'Fluorine', 'Oxygen', 'Nitrogen', 'Carbon', 'Boron', 'Beryllium', 'Lithium', 'Helium', 'Hydrogen']\n",
      "Solstice\n",
      "Calendar\n",
      "November\n",
      "February\n",
      "Wednesday\n"
     ]
    }
   ],
   "source": [
    "# [ ] use .reverse() to print elements starting with \"Calcium\", \"Chlorine\",... in reverse order\n",
    "elements = ['Hydrogen', 'Helium', 'Lithium', 'Beryllium', 'Boron', 'Carbon', 'Nitrogen', 'Oxygen', 'Fluorine', \\\n",
    " 'Neon', 'Sodium', 'Magnesium', 'Aluminum', 'Silicon', 'Phosphorus', 'Sulfur', 'Chlorine', 'Argon', \\\n",
    " 'Potassium', 'Calcium']\n",
    "\n",
    "(elements.reverse())\n",
    "print(elements)\n",
    "# [ ] reverse order of the list... Then print only words that are 8 characters or longer from the now reversed order\n",
    "spell_list = [\"Tuesday\", \"Wednesday\", \"February\", \"November\", \"Annual\", \"Calendar\", \"Solstice\"]\n",
    "rsl = spell_list.reverse()\n",
    "\n",
    "for words in range(0,len(spell_list)):\n",
    "    if len(spell_list[words]) >= 8:\n",
    "        print(spell_list[words])"
   ]
  },
  {
   "cell_type": "code",
   "execution_count": 1089,
   "metadata": {},
   "outputs": [
    {
     "name": "stdout",
     "output_type": "stream",
     "text": [
      "['Aluminum', 'Argon', 'Beryllium', 'Boron', 'Calcium', 'Carbon', 'Chlorine', 'Fluorine', 'Helium', 'Hydrogen', 'Lithium', 'Magnesium', 'Neon', 'Nitrogen', 'Oxygen', 'Phosphorus', 'Potassium', 'Silicon', 'Sodium', 'Sulfur']\n",
      "[1, 1, 1, 1, 2, 2, 2, 2, 2, 2, 2, 2, 3, 3, 3]\n",
      "[2, 2, 2, 1, 2, 1, 3, 3, 1, 2, 2, 2, 2, 1, 3]\n"
     ]
    }
   ],
   "source": [
    "# [ ] sort the list element, so names are in alphabetical order and print elements\n",
    "elements = ['Hydrogen', 'Helium', 'Lithium', 'Beryllium', 'Boron', 'Carbon', 'Nitrogen', 'Oxygen', 'Fluorine', \\\n",
    " 'Neon', 'Sodium', 'Magnesium', 'Aluminum', 'Silicon', 'Phosphorus', 'Sulfur', 'Chlorine', 'Argon', \\\n",
    " 'Potassium', 'Calcium']\n",
    "elements.sort()\n",
    "print(elements)\n",
    "# [ ] print the list, numbers, sorted and then below print the original numbers list \n",
    "numbers = [2,2,2,1,2,1,3,3,1,2,2,2,2,1,3]\n",
    "print(sorted(numbers))\n",
    "print(numbers)"
   ]
  },
  {
   "cell_type": "code",
   "execution_count": 1095,
   "metadata": {},
   "outputs": [
    {
     "name": "stdout",
     "output_type": "stream",
     "text": [
      "DID\n",
      "YOU\n",
      "KNOW\n",
      "THAT\n",
      "THERE\n",
      "ARE\n",
      "1.4\n",
      "BILLION\n",
      "STUDENTS\n",
      "IN\n",
      "THE\n",
      "WORLD?\n",
      "['Pyth', 'n uses spaces f', 'r indentati', 'n']\n",
      "The \n",
      "right \n",
      "rain, has \n",
      "ran!\n"
     ]
    }
   ],
   "source": [
    "# [ ] split the string, daily_fact, into a list of word strings: fact_words\n",
    "# [ ] print each string in fact_words in upper case on it's own line\n",
    "daily_fact = \"Did you know that there are 1.4 billion students in the world?\"\n",
    "fact_words = daily_fact.split()\n",
    "for words in fact_words:\n",
    "    print(words.upper())\n",
    "    \n",
    "\n",
    "# [ ] convert the string, code_tip, into a list made from splitting on the letter \"o\"\n",
    "print(code_tip.split('o'))\n",
    "\n",
    "# [ ] split poem on \"b\" to create a list: poem_words\n",
    "# [ ] print poem_words by iterating the list\n",
    "poem = \"The bright brain, has bran!\"\n",
    "poem_words = poem.split('b')\n",
    "for words in poem_words:\n",
    "    print(words)"
   ]
  },
  {
   "cell_type": "code",
   "execution_count": 1148,
   "metadata": {},
   "outputs": [
    {
     "ename": "SyntaxError",
     "evalue": "cannot assign to function call (<ipython-input-1148-a0efe5747797>, line 14)",
     "output_type": "error",
     "traceback": [
      "\u001b[0;36m  File \u001b[0;32m\"<ipython-input-1148-a0efe5747797>\"\u001b[0;36m, line \u001b[0;32m14\u001b[0m\n\u001b[0;31m    str(word) = str(word.title())\u001b[0m\n\u001b[0m    ^\u001b[0m\n\u001b[0;31mSyntaxError\u001b[0m\u001b[0;31m:\u001b[0m cannot assign to function call\n"
     ]
    }
   ],
   "source": [
    "# [ ] print a comma separated string output from the list of Halogen elements using \".join()\"\n",
    "halogens = ['Chlorine', 'Florine', 'Bromine', 'Iodine']\n",
    "comma = ', '\n",
    "comma.join(halogens)\n",
    "\n",
    "print(halogens)\n",
    "# [ ] split the sentence, code_tip, into a words list\n",
    "# [ ] print the joined words in the list with no spaces in-between\n",
    "# [ ] Bonus: capitalize each word in the list before .join()\n",
    "code_tip =\"Read code aloud or explain the code step by step to a peer\"\n",
    "words = code_tip.split() \n",
    "none =\"\"\n",
    "for word in range(len(words)):\n",
    "    words[word] = words[word].title()\n",
    "print(none.join(words))"
   ]
  },
  {
   "cell_type": "code",
   "execution_count": 1170,
   "metadata": {},
   "outputs": [
    {
     "name": "stdout",
     "output_type": "stream",
     "text": [
      "d\n",
      "e\n",
      "c\n",
      "e\n",
      "l\n",
      "e\n",
      "r\n",
      "a\n",
      "t\n",
      "i\n",
      "n\n",
      "g\n",
      "What's the closest planet to the Sun?\n",
      "How deep do Dolphins swim?\n",
      "What time is it?\n",
      "Calcaneus, Talus, Cuboid, Navicular, Lateral Cuneiform, Intermediate Cuneiform, Medial Cuneiform, "
     ]
    }
   ],
   "source": [
    "# [ ] cast the long_word into individual letters list \n",
    "# [ ] print each letter on a line\n",
    "long_word = 'decelerating'\n",
    "letters = list(long_word)\n",
    "\n",
    "for l in letters:\n",
    "    print(l)\n",
    "# [ ] use use end= in print to output each string in questions with a \"?\" and on new lines\n",
    "questions = [\"What's the closest planet to the Sun\", \"How deep do Dolphins swim\", \"What time is it\"]\n",
    "q = list(questions)\n",
    "for x in q:\n",
    "    print(x, end = '?' + '\\n')\n",
    "# [ ] print each item in foot bones \n",
    "#    - capitalized, both words if two word name\n",
    "#    - separated by a comma and space\n",
    "#    - and keeping on a single print line\n",
    "foot_bones = [\"calcaneus\", \"talus\", \"cuboid\", \"navicular\", \"lateral cuneiform\", \n",
    "            \"intermediate cuneiform\", \"medial cuneiform\"]\n",
    "\n",
    "bones_list = list(foot_bones)\n",
    "\n",
    "for bones in bones_list:\n",
    "    print(bones.title(), end = ', ')"
   ]
  },
  {
   "cell_type": "code",
   "execution_count": 1223,
   "metadata": {},
   "outputs": [
    {
     "name": "stdout",
     "output_type": "stream",
     "text": [
      "Enter a poem or phrase: Little fly, Thy summer’s play My thoughtless hand Has brushed away. Am not I A fly like thee? Or art not thou A man like me?\n",
      "summer’s A thoughtless \n",
      "not A thou \n",
      "me? Am thee? \n",
      "like Has play \n",
      "hand I not \n",
      "fly Little man \n",
      "away. My like \n",
      "\n"
     ]
    }
   ],
   "source": [
    "'''Program: poem mixer\n",
    "This program takes string input and then prints out a mixed order version of the string\n",
    "\n",
    "Program Parts\n",
    "\n",
    "program flow gathers the word list, modifies the case and order, and prints\n",
    "\n",
    "[x]get string input, input like a poem, verse or saying\n",
    "[x]split the string into a list of individual words\n",
    "[x]determine the length of the list\n",
    "[]Loop the length of the list by index number and for each list index:\n",
    "--[]if a word is short (3 letters or less) make the word in the list lowercase\n",
    "--[]if a word is long (7 letters or more) make the word in the list uppercase\n",
    "[x]call the word_mixer function with the modified list\n",
    "[x]print the return value from the word_mixer function\n",
    "[]word_mixer Function has 1 argument: an original list of string words, containing greater than 5 words and the function returns a new list.\n",
    "\n",
    "[x]sort the original list\n",
    "[x]create a new list\n",
    "[x]Loop while the list is longer than 5 words:\n",
    "[]in each loop pop a word from the sorted original list and append to the new list\n",
    "--[]pop the word 5th from the end of the list and append to the new list\n",
    "--[]pop the first word in the list and append to the new list\n",
    "--[]pop the last word in the list and append to the new list\n",
    "[]return the new list on exiting the loop\n",
    "[]TODO: upload image to blob\n",
    "\n",
    "input example (beginning of William Blake poem, \"The Fly\")\n",
    "\n",
    "enter a saying or poem: Little fly, Thy summer’s play My thoughtless hand Has brushed away. Am not I A fly like thee? Or art not thou A man like me?\n",
    "\n",
    "output example\n",
    "\n",
    "or BRUSHED thy not Little thou me? SUMMER’S thee? like THOUGHTLESS play i a not hand a my fly am man\n",
    "\n",
    "alternative output in each loop in the function that creates the new list add a \"\\n\" to the list\n",
    "\n",
    " or BRUSHED thy \n",
    " not Little thou \n",
    " me? SUMMER’S thee? \n",
    " like THOUGHTLESS play \n",
    " i a not \n",
    " hand a my \n",
    " fly am man\n",
    " \n",
    "'''\n",
    "\n",
    "poem = input('Enter a poem or phrase: ')\n",
    "word_list = poem.split()\n",
    "listlen = len(word_list)\n",
    "for word in range (0, listlen):\n",
    "    if len(word_list[word]) >= 7:\n",
    "        (word_list[word].upper())\n",
    "\n",
    "    elif len(word_list[word]) <= 3:\n",
    "        (word_list[word].lower())\n",
    "        \n",
    "    else:\n",
    "        (word_list[word])\n",
    "\n",
    "def word_mixer(word_list):\n",
    "    new_words = \"\"\n",
    "    word_list.sort()\n",
    "    while len(word_list) > 5:\n",
    "        new_words += word_list.pop(-4) + \" \"\n",
    "        new_words += word_list.pop(0) + \" \"\n",
    "        new_words += word_list.pop() + \" \"\n",
    "        new_words += \"\\n\"\n",
    "        \n",
    "    print(new_words)\n",
    "        \n",
    "word_mixer(word_list)\n",
    "        \n",
    "    \n",
    "    \n",
    "\n"
   ]
  },
  {
   "cell_type": "code",
   "execution_count": 1255,
   "metadata": {},
   "outputs": [
    {
     "name": "stdout",
     "output_type": "stream",
     "text": [
      "  % Total    % Received % Xferd  Average Speed   Time    Time     Time  Current\n",
      "                                 Dload  Upload   Total   Spent    Left  Speed\n",
      "100    56  100    56    0     0    143      0 --:--:-- --:--:-- --:--:--   143\n",
      "<_io.TextIOWrapper name='cities.txt' mode='r' encoding='UTF-8'>\n",
      "[]\n"
     ]
    }
   ],
   "source": [
    "!curl https://raw.githubusercontent.com/MicrosoftLearning/intropython/master/cities -o cities.txt\n",
    "\n",
    "cities_file = open('cities.txt', 'r')\n",
    "print(cities_file)\n",
    "cities = cities_file.read()\n",
    "#cities\n",
    "#print(cities)\n",
    "\n",
    "'''\n",
    "iterate through the characters in cities\n",
    "test if .isupper(), if True append the character to a string variable: initials\n",
    "else if (elif) character is \"\\n\", if True append the \"\\n\" to initials\n",
    "print initials\n",
    "\n",
    "\n",
    "for city in cities:\n",
    "    initials = \"\"\n",
    "    if city.isupper() == True:\n",
    "        initials +=city\n",
    "    elif city == '\\n':\n",
    "        initials+=city\n",
    "    else:\n",
    "        pass\n",
    "    print(initials)\n",
    "'''   \n",
    "# [ ] open cities.txt as cities_file and read the file as a list: cities_lines\n",
    "# [ ] use list iteration to print each city in cities_lines list\n",
    "\n",
    "cities_lines = cities_file.readlines()\n",
    "print(cities_lines)\n",
    "for line in cities_lines:\n",
    "    print(line)\n",
    "    \n",
    "cities_file.close()\n",
    "# [ ] re-open file and read file as a list of strings \n",
    "# [ ] open cities.txt as cities_file and read the file as a list: cities_lines\n",
    "\n",
    "\n",
    "# [ ] remove the last character, \"\\n\", of each cities_lines list item \n",
    "\n",
    "\n",
    "# [ ] print each list item in cities_lines\n",
    "\n",
    "    "
   ]
  },
  {
   "cell_type": "code",
   "execution_count": 1239,
   "metadata": {},
   "outputs": [
    {
     "name": "stdout",
     "output_type": "stream",
     "text": [
      "  % Total    % Received % Xferd  Average Speed   Time    Time     Time  Current\n",
      "                                 Dload  Upload   Total   Spent    Left  Speed\n",
      "100   303  100   303    0     0   5826      0 --:--:-- --:--:-- --:--:--  5826\n",
      "3.14\n",
      "3.141592\n",
      "3.1415926535\n",
      "3.14159265358979\n",
      "3.141592653589793238\n"
     ]
    }
   ],
   "source": [
    "!curl https://raw.githubusercontent.com/MicrosoftLearning/intropython/master/digits_of_pi -o digits_of_pi.txt\n",
    "\n",
    "digits_of_pi = open('digits_of_pi.txt', 'r')\n",
    "pi_digits=''\n",
    "pi_digits+= digits_of_pi.read(4)\n",
    "print(pi_digits)\n",
    "pi_digits += digits_of_pi.read(4)\n",
    "print(pi_digits)\n",
    "pi_digits += digits_of_pi.read(4)\n",
    "print(pi_digits)\n",
    "pi_digits += digits_of_pi.read(4)\n",
    "print(pi_digits)\n",
    "pi_digits += digits_of_pi.read(4)\n",
    "print(pi_digits)"
   ]
  },
  {
   "cell_type": "code",
   "execution_count": 1251,
   "metadata": {},
   "outputs": [
    {
     "name": "stdout",
     "output_type": "stream",
     "text": [
      "[]\n"
     ]
    }
   ],
   "source": [
    "# [ ] import https://raw.githubusercontent.com/MicrosoftLearning/intropython/master/poem2.txt as poem2.txt\n",
    "\n",
    "\n",
    "# [ ] open poem2.txt as poem2_text in read mode\n",
    "\n",
    "\n",
    "# [ ] create a list of strings, called poem2_lines, from each line of poem2_text\n",
    "\n",
    "\n",
    "# [ ] remove the newline character for each list item in poem2_lines\n",
    "\n",
    "\n",
    "# [ ] print the poem2 lines in reverse order"
   ]
  },
  {
   "cell_type": "code",
   "execution_count": 1262,
   "metadata": {},
   "outputs": [
    {
     "name": "stdout",
     "output_type": "stream",
     "text": [
      "  % Total    % Received % Xferd  Average Speed   Time    Time     Time  Current\n",
      "                                 Dload  Upload   Total   Spent    Left  Speed\n",
      "100    43  100    43    0     0    826      0 --:--:-- --:--:-- --:--:--   826\n",
      "GREEN\n",
      "BLUE\n",
      "INDIGO\n",
      "VIOLET\n",
      "\n"
     ]
    }
   ],
   "source": [
    "# [ ] import https://raw.githubusercontent.com/MicrosoftLearning/intropython/master/rainbow as rainbow.txt\n",
    "!curl https://raw.githubusercontent.com/MicrosoftLearning/intropython/master/rainbow -o rainbow.txt\n",
    "\n",
    "\n",
    "\n",
    "# [ ] open rainbow.txt as rainbow_text\n",
    "rainbow_text = open('rainbow.txt', 'r')\n",
    "\n",
    "# [ ] read the first 3 lines into variables: color1, color2, color3\n",
    "\n",
    "color1 = rainbow_text.readline()\n",
    "color2 = rainbow_text.readline()\n",
    "color3 = rainbow_text.readline()\n",
    "\n",
    "#print(color1, color2, color3)\n",
    "\n",
    "# [ ] read the color from lines of rainbow_text in a while loop\n",
    "# [ ] print each color capitalized as the loop runs\n",
    "#while color1:\n",
    "#    color1 = rainbow_text.readline()\n",
    "#    print(color1[:-1].upper())\n",
    "# [ ] close rainbow_text \n",
    "# [ ] close rainbow.txt\n",
    "\n",
    "\n",
    "# [ ] read a color from each line of rainbow_text in a while loop  \n",
    "# use .strip to remove the whitespace '\\n' character \n",
    "# print each color upper case \n",
    "while color1:\n",
    "    color1 = rainbow_text.readline().strip()\n",
    "    print(color1.upper())\n",
    "rainbow_text.close()\n",
    "# [ ] print the first 3 colors\n"
   ]
  },
  {
   "cell_type": "code",
   "execution_count": 1278,
   "metadata": {},
   "outputs": [
    {
     "name": "stdout",
     "output_type": "stream",
     "text": [
      "  % Total    % Received % Xferd  Average Speed   Time    Time     Time  Current\n",
      "                                 Dload  Upload   Total   Spent    Left  Speed\n",
      "100    77  100    77    0     0     71      0  0:00:01  0:--:-- --:--:--     000:01 --:--:--    71\n",
      "  Cairo\n",
      "  London\n",
      "  Nairobi\n",
      "  New York City\n",
      "  Sydney\n",
      "  Tokyo\n",
      "\n"
     ]
    }
   ],
   "source": [
    "# [ ] import the file\n",
    "!curl https://raw.githubusercontent.com/MicrosoftLearning/intropython/master/cities_messy -o cities_messy.txt\n",
    "# [ ] run to read the file into memory\n",
    "cities_messy = open('cities_messy.txt', 'r')\n",
    "# [ ] edit the code to remove leading or trailing colon, newline and space characters\n",
    "line = cities_messy.readline()\n",
    "\n",
    "while line:\n",
    "    line = cities_messy.readline().strip(':\\n')\n",
    "    print(line)\n",
    "    \n",
    "cities_messy.close()"
   ]
  },
  {
   "cell_type": "code",
   "execution_count": 1279,
   "metadata": {},
   "outputs": [
    {
     "name": "stdout",
     "output_type": "stream",
     "text": [
      "  % Total    % Received % Xferd  Average Speed   Time    Time     Time  Current\n",
      "                                 Dload  Upload   Total   Spent    Left  Speed\n",
      "100    75  100    75    0     0    250      0 --:--:-- --:--:-- --:--:--   250\n",
      "(while True)\n",
      "\n",
      "I loop\n",
      "True\n",
      "loop\n",
      "True\n",
      "loop\n",
      "not True\n",
      "False\n",
      "end\n"
     ]
    }
   ],
   "source": [
    "# [ ] import https://raw.githubusercontent.com/MicrosoftLearning/intropython/master/poem2_messy as poem2_messy.txt\n",
    "!curl https://raw.githubusercontent.com/MicrosoftLearning/intropython/master/poem2_messy -o poem2_messy.txt\n",
    "# [ ] open poem2_messy.txt as poem2_messy in read mode\n",
    "poem2_messy = open('poem2_messy.txt', 'r')\n",
    "# [ ] edit while loop to strip the leading and trailing parentheses, and newlines\n",
    "# [ ] print the poem \n",
    "line = poem2_messy.readline()\n",
    "\n",
    "while line:\n",
    "    print(line)\n",
    "    line = poem2_messy.readline().strip('(').strip(')\\n')"
   ]
  },
  {
   "cell_type": "code",
   "execution_count": 1281,
   "metadata": {},
   "outputs": [
    {
     "name": "stdout",
     "output_type": "stream",
     "text": [
      "Mercury \n",
      "Venus \n",
      "Earth \n",
      "Mars\n"
     ]
    }
   ],
   "source": [
    "# [ ] open planets.txt in write mode\n",
    "planets = open('planets.txt', 'w')\n",
    "\n",
    "# [ ] write Mercury, Venus, Earth, Mars on separate lines\n",
    "\n",
    "planets.write(\"Mercury \\nVenus \\nEarth \\nMars\")\n",
    "\n",
    "# [ ] close the file and re-open in read mode\n",
    "planets.close()\n",
    "planets = open('planets.txt', 'r')\n",
    "\n",
    "# [ ] use .read() to read the entire file contents\n",
    "\n",
    "contents = planets.read()\n",
    "\n",
    "\n",
    "# [ ] print the entire file contents and close the file\n",
    "print(contents)\n"
   ]
  },
  {
   "cell_type": "code",
   "execution_count": 1283,
   "metadata": {},
   "outputs": [
    {
     "name": "stdout",
     "output_type": "stream",
     "text": [
      "\n"
     ]
    }
   ],
   "source": [
    "# [ ] review and run example - sets pointer to beginning of file\n",
    "new_file = open('new_file.txt','w+')\n",
    "\n",
    "new_file.seek(0)\n",
    "# [ ] review and run example - now read starts from beginning of file\n",
    "new_text = new_file.read()\n",
    "print(new_text)\n",
    "\n",
    "# # [ ] review and run example - clean up and close file\n",
    "new_file.close()"
   ]
  },
  {
   "cell_type": "code",
   "execution_count": 1286,
   "metadata": {},
   "outputs": [
    {
     "name": "stdout",
     "output_type": "stream",
     "text": [
      "Jupiter \n",
      "Saturn \n",
      "Uranus \n",
      "Neptune\n"
     ]
    }
   ],
   "source": [
    "# [ ] open outer_planets.txt in write mode 'w+' \n",
    "outer_planets = open('outer_planets.txt', 'w+')\n",
    "\n",
    "# [ ] write four outer planets in earth's solar system (Jupiter, Saturn, Uranus, Neptune) on separate lines\n",
    "outer_planets.write(\"Jupiter \\nSaturn \\nUranus \\nNeptune\")\n",
    "\n",
    "# [ ] use .seek() to move the pointer to the start of the file\n",
    "outer_planets.seek(0)\n",
    "                    \n",
    "# [ ] use .read() to read the entire file contents\n",
    "lol = outer_planets.read()\n",
    "\n",
    "# [ ] print the entire file contents and close the file\n",
    "print(lol)\n",
    "outer_planets.close()"
   ]
  },
  {
   "cell_type": "code",
   "execution_count": 1289,
   "metadata": {},
   "outputs": [
    {
     "name": "stdout",
     "output_type": "stream",
     "text": [
      "\n",
      "Monday \n",
      "Tuesday \n",
      "Wednesday \n",
      "Thursday \n",
      "Friday\n",
      "Saturday \n",
      "Sunday\n"
     ]
    }
   ],
   "source": [
    "# [ ] open a new file days.txt in write plus read mode 'w+' \n",
    "# [ ] write week days (Monday - Friday) on separate lines to the file\n",
    "days = open('days.txt','w+')\n",
    "days.write(\"Monday \\nTuesday \\nWednesday \\nThursday \\nFriday\")\n",
    "\n",
    "# [ ] use .seek() to move the pointer to the start of the file\n",
    "days.seek(0)\n",
    "# [ ] use .read() to read the entire file contents\n",
    "days.read()\n",
    "# [ ] print the entire file contents and close the file\n",
    "print(days.read())\n",
    "\n",
    "# [ ] use .seek() to move the pointer to the end of the file\n",
    "# [ ] write the weekend days (Saturday & Sunday)\n",
    "days.seek(0,2)\n",
    "days.write(\"\\nSaturday \\nSunday\")\n",
    "\n",
    "# [ ] use .seek() to move the pointer to the start of the file\n",
    "days.seek(0)\n",
    "# [ ] use .read() to read the entire file contents\n",
    "# [ ] print the entire file contents and close the file\n",
    "print(days.read())\n",
    "days.close()"
   ]
  },
  {
   "cell_type": "code",
   "execution_count": null,
   "metadata": {
    "scrolled": true
   },
   "outputs": [],
   "source": [
    "'''\n",
    "In this program the user enters the name of any 5 of the first 20 Atomic Elements and is given a grade and test report for items correct and incorrect.\n",
    "\n",
    "Sample input and output:\n",
    "list any 5 of the first 20 elements in the Period table\n",
    "Enter the name of an element: argon\n",
    "Enter the name of an element: chlorine\n",
    "Enter the name of an element: sodium\n",
    "Enter the name of an element: argon\n",
    "argon was already entered          <--no duplicates allowed\n",
    "Enter the name of an element: helium\n",
    "Enter the name of an element: gold\n",
    "\n",
    "80 % correct\n",
    "Found: Argon Chlorine Sodium Helium \n",
    "Not Found: Gold \n",
    "Create get_names() Function to collect input of 5 unique element names\n",
    "The function accepts no arguments and returns a list of 5 input strings (element names)\n",
    "define a list to hold the input\n",
    "collect input of a element name\n",
    "if input it is not already in the list add the input to the list\n",
    "don't allow empty strings as input\n",
    "once 5 unique inputs return the list\n",
    "Create the Program flow\n",
    "import the file into the Jupyter Notebook environment\n",
    "use !curl to download https://raw.githubusercontent.com/MicrosoftLearning/intropython/master/elements1_20.txt as elements1_20.txt\n",
    "open the file with the first 20 elements\n",
    "read one line at a time to get element names, remove any whitespace (spaces, newlines) and save each element name, as lowercase, into a list\n",
    "Call the get_names() function\n",
    "the return value will be the quiz responses list\n",
    "check if responses are in the list of elements\n",
    "Iterate through 5 responses\n",
    "\n",
    "compare each response to the list of 20 elements\n",
    "any response that is in the list of 20 elements is correct and should be added to a list of correct responses\n",
    "if not in the list of 20 elements then add to a list of incorrect responses\n",
    "calculate the % correct\n",
    "find the the number of items in the correct responses and divide by 5, this will result in answers like 1.0, .8, .6,...\n",
    "to get the % multiple the calculated answer above by 100, this will result in answers like 100, 80, 60...\n",
    "hint: instead of dividing by 5 and then multiplying by 100, the number of correct responses can be multiplied by 20\n",
    "Print output\n",
    "print the Score % right\n",
    "print each of the correct responses\n",
    "print each of the incorrect responses\n",
    "# [ ] create Element_Quiz  \n",
    "# then PASTE THIS CODE on then following page\n",
    "\n",
    "def bones_quiz(foot_bones):\n",
    "    score = 0\n",
    "    for i in range(2):\n",
    "        bones_guessed = input('Which bones?: ')\n",
    "        \n",
    "        if bones_guessed in foot_bones:\n",
    "            print('Good Job!')\n",
    "            score +=1\n",
    "            print(score)\n",
    "            foot_bones.remove(bones_guessed)\n",
    "        else:\n",
    "            print('Sorry, that is wrong.')\n",
    "            print(score)\n",
    "            \n",
    "\n",
    "'''\n",
    "names =[]\n",
    "!curl -s https://raw.githubusercontent.com/MicrosoftLearning/intropython/master/elements1_20.txt -o elements1_20.txt\n",
    "elements_20 = open('elements1_20.txt', 'r')\n",
    "elements_list = elements_20.read().strip('\\n')\n",
    "\n",
    "def get_names(elements_list):\n",
    "    names =[]\n",
    "    num_correct = 0\n",
    "    num_wrong = 0\n",
    "    guessed_names =[]\n",
    "    for i in range(5):\n",
    "        valid_input = False\n",
    "        while(not valid_input):\n",
    "            names_input = input(\"Enter an element's name: \").title()\n",
    "            if names_input == \"\":\n",
    "                print(\"That's not an element! Try again. \")\n",
    "            elif names_input in guessed_names:\n",
    "                print(\"You already said that!\")\n",
    "            elif names_input in elements_list:\n",
    "                valid_input = True\n",
    "                num_correct += 1\n",
    "                guessed_names.append(names_input)\n",
    "            else:\n",
    "                valid_input = True\n",
    "                num_wrong += 1\n",
    "                guessed_names.append(names_input)\n",
    "    per_right = str(num_correct * 20)\n",
    "    per_wrong = str(100 - (num_correct * 20))\n",
    "    results = (\"You got \" + per_right + \"% right! And \" + per_wrong +\"% wrong.\")\n",
    "    print(results)\n",
    "\n",
    "    \n",
    "get_names(elements_list)\n",
    "\n",
    "elements_20.close()\n",
    "    \n",
    "    "
   ]
  },
  {
   "cell_type": "code",
   "execution_count": null,
   "metadata": {},
   "outputs": [],
   "source": []
  }
 ],
 "metadata": {
  "kernelspec": {
   "display_name": "Python 3",
   "language": "python",
   "name": "python3"
  },
  "language_info": {
   "codemirror_mode": {
    "name": "ipython",
    "version": 3
   },
   "file_extension": ".py",
   "mimetype": "text/x-python",
   "name": "python",
   "nbconvert_exporter": "python",
   "pygments_lexer": "ipython3",
   "version": "3.8.1"
  }
 },
 "nbformat": 4,
 "nbformat_minor": 4
}
